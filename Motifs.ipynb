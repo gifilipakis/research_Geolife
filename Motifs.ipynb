{
 "cells": [
  {
   "cell_type": "code",
   "execution_count": 13,
   "id": "b679249c",
   "metadata": {},
   "outputs": [],
   "source": [
    "import pandas as pd\n",
    "import os\n",
    "from datetime import datetime\n",
    "import numpy as np\n",
    "import geopandas as gpd\n",
    "from pyproj import CRS\n",
    "from shapely.geometry import Point\n",
    "from datetime import timedelta\n",
    "import movingpandas as mpd\n",
    "import matplotlib.pyplot as plt"
   ]
  },
  {
   "cell_type": "code",
   "execution_count": 14,
   "id": "5530da48",
   "metadata": {
    "collapsed": true
   },
   "outputs": [
    {
     "name": "stderr",
     "output_type": "stream",
     "text": [
      "C:\\ProgramData\\Miniconda3\\lib\\site-packages\\pandas\\core\\dtypes\\cast.py:122: ShapelyDeprecationWarning: The array interface is deprecated and will no longer work in Shapely 2.0. Convert the '.coords' to a numpy array instead.\n",
      "  arr = construct_1d_object_array_from_listlike(values)\n",
      "C:\\ProgramData\\Miniconda3\\lib\\site-packages\\pandas\\core\\dtypes\\cast.py:122: ShapelyDeprecationWarning: The array interface is deprecated and will no longer work in Shapely 2.0. Convert the '.coords' to a numpy array instead.\n",
      "  arr = construct_1d_object_array_from_listlike(values)\n",
      "C:\\ProgramData\\Miniconda3\\lib\\site-packages\\pandas\\core\\dtypes\\cast.py:122: ShapelyDeprecationWarning: The array interface is deprecated and will no longer work in Shapely 2.0. Convert the '.coords' to a numpy array instead.\n",
      "  arr = construct_1d_object_array_from_listlike(values)\n",
      "C:\\ProgramData\\Miniconda3\\lib\\site-packages\\pandas\\core\\dtypes\\cast.py:122: ShapelyDeprecationWarning: The array interface is deprecated and will no longer work in Shapely 2.0. Convert the '.coords' to a numpy array instead.\n",
      "  arr = construct_1d_object_array_from_listlike(values)\n",
      "C:\\ProgramData\\Miniconda3\\lib\\site-packages\\pandas\\core\\dtypes\\cast.py:122: ShapelyDeprecationWarning: The array interface is deprecated and will no longer work in Shapely 2.0. Convert the '.coords' to a numpy array instead.\n",
      "  arr = construct_1d_object_array_from_listlike(values)\n",
      "C:\\ProgramData\\Miniconda3\\lib\\site-packages\\pandas\\core\\dtypes\\cast.py:122: ShapelyDeprecationWarning: The array interface is deprecated and will no longer work in Shapely 2.0. Convert the '.coords' to a numpy array instead.\n",
      "  arr = construct_1d_object_array_from_listlike(values)\n",
      "C:\\ProgramData\\Miniconda3\\lib\\site-packages\\pandas\\core\\dtypes\\cast.py:122: ShapelyDeprecationWarning: The array interface is deprecated and will no longer work in Shapely 2.0. Convert the '.coords' to a numpy array instead.\n",
      "  arr = construct_1d_object_array_from_listlike(values)\n",
      "C:\\ProgramData\\Miniconda3\\lib\\site-packages\\pandas\\core\\dtypes\\cast.py:122: ShapelyDeprecationWarning: The array interface is deprecated and will no longer work in Shapely 2.0. Convert the '.coords' to a numpy array instead.\n",
      "  arr = construct_1d_object_array_from_listlike(values)\n",
      "C:\\ProgramData\\Miniconda3\\lib\\site-packages\\pandas\\core\\dtypes\\cast.py:122: ShapelyDeprecationWarning: The array interface is deprecated and will no longer work in Shapely 2.0. Convert the '.coords' to a numpy array instead.\n",
      "  arr = construct_1d_object_array_from_listlike(values)\n",
      "C:\\ProgramData\\Miniconda3\\lib\\site-packages\\pandas\\core\\dtypes\\cast.py:122: ShapelyDeprecationWarning: The array interface is deprecated and will no longer work in Shapely 2.0. Convert the '.coords' to a numpy array instead.\n",
      "  arr = construct_1d_object_array_from_listlike(values)\n",
      "C:\\ProgramData\\Miniconda3\\lib\\site-packages\\pandas\\core\\dtypes\\cast.py:122: ShapelyDeprecationWarning: The array interface is deprecated and will no longer work in Shapely 2.0. Convert the '.coords' to a numpy array instead.\n",
      "  arr = construct_1d_object_array_from_listlike(values)\n",
      "C:\\ProgramData\\Miniconda3\\lib\\site-packages\\pandas\\core\\dtypes\\cast.py:122: ShapelyDeprecationWarning: The array interface is deprecated and will no longer work in Shapely 2.0. Convert the '.coords' to a numpy array instead.\n",
      "  arr = construct_1d_object_array_from_listlike(values)\n",
      "C:\\ProgramData\\Miniconda3\\lib\\site-packages\\pandas\\core\\dtypes\\cast.py:122: ShapelyDeprecationWarning: The array interface is deprecated and will no longer work in Shapely 2.0. Convert the '.coords' to a numpy array instead.\n",
      "  arr = construct_1d_object_array_from_listlike(values)\n",
      "C:\\ProgramData\\Miniconda3\\lib\\site-packages\\pandas\\core\\dtypes\\cast.py:122: ShapelyDeprecationWarning: The array interface is deprecated and will no longer work in Shapely 2.0. Convert the '.coords' to a numpy array instead.\n",
      "  arr = construct_1d_object_array_from_listlike(values)\n",
      "C:\\ProgramData\\Miniconda3\\lib\\site-packages\\pandas\\core\\dtypes\\cast.py:122: ShapelyDeprecationWarning: The array interface is deprecated and will no longer work in Shapely 2.0. Convert the '.coords' to a numpy array instead.\n",
      "  arr = construct_1d_object_array_from_listlike(values)\n",
      "C:\\ProgramData\\Miniconda3\\lib\\site-packages\\pandas\\core\\dtypes\\cast.py:122: ShapelyDeprecationWarning: The array interface is deprecated and will no longer work in Shapely 2.0. Convert the '.coords' to a numpy array instead.\n",
      "  arr = construct_1d_object_array_from_listlike(values)\n",
      "C:\\ProgramData\\Miniconda3\\lib\\site-packages\\pandas\\core\\dtypes\\cast.py:122: ShapelyDeprecationWarning: The array interface is deprecated and will no longer work in Shapely 2.0. Convert the '.coords' to a numpy array instead.\n",
      "  arr = construct_1d_object_array_from_listlike(values)\n",
      "C:\\ProgramData\\Miniconda3\\lib\\site-packages\\pandas\\core\\dtypes\\cast.py:122: ShapelyDeprecationWarning: The array interface is deprecated and will no longer work in Shapely 2.0. Convert the '.coords' to a numpy array instead.\n",
      "  arr = construct_1d_object_array_from_listlike(values)\n",
      "C:\\ProgramData\\Miniconda3\\lib\\site-packages\\pandas\\core\\dtypes\\cast.py:122: ShapelyDeprecationWarning: The array interface is deprecated and will no longer work in Shapely 2.0. Convert the '.coords' to a numpy array instead.\n",
      "  arr = construct_1d_object_array_from_listlike(values)\n",
      "C:\\ProgramData\\Miniconda3\\lib\\site-packages\\pandas\\core\\dtypes\\cast.py:122: ShapelyDeprecationWarning: The array interface is deprecated and will no longer work in Shapely 2.0. Convert the '.coords' to a numpy array instead.\n",
      "  arr = construct_1d_object_array_from_listlike(values)\n",
      "C:\\ProgramData\\Miniconda3\\lib\\site-packages\\pandas\\core\\dtypes\\cast.py:122: ShapelyDeprecationWarning: The array interface is deprecated and will no longer work in Shapely 2.0. Convert the '.coords' to a numpy array instead.\n",
      "  arr = construct_1d_object_array_from_listlike(values)\n",
      "C:\\ProgramData\\Miniconda3\\lib\\site-packages\\pandas\\core\\dtypes\\cast.py:122: ShapelyDeprecationWarning: The array interface is deprecated and will no longer work in Shapely 2.0. Convert the '.coords' to a numpy array instead.\n",
      "  arr = construct_1d_object_array_from_listlike(values)\n",
      "C:\\ProgramData\\Miniconda3\\lib\\site-packages\\pandas\\core\\dtypes\\cast.py:122: ShapelyDeprecationWarning: The array interface is deprecated and will no longer work in Shapely 2.0. Convert the '.coords' to a numpy array instead.\n",
      "  arr = construct_1d_object_array_from_listlike(values)\n",
      "C:\\ProgramData\\Miniconda3\\lib\\site-packages\\pandas\\core\\dtypes\\cast.py:122: ShapelyDeprecationWarning: The array interface is deprecated and will no longer work in Shapely 2.0. Convert the '.coords' to a numpy array instead.\n",
      "  arr = construct_1d_object_array_from_listlike(values)\n",
      "C:\\ProgramData\\Miniconda3\\lib\\site-packages\\pandas\\core\\dtypes\\cast.py:122: ShapelyDeprecationWarning: The array interface is deprecated and will no longer work in Shapely 2.0. Convert the '.coords' to a numpy array instead.\n",
      "  arr = construct_1d_object_array_from_listlike(values)\n",
      "C:\\ProgramData\\Miniconda3\\lib\\site-packages\\pandas\\core\\dtypes\\cast.py:122: ShapelyDeprecationWarning: The array interface is deprecated and will no longer work in Shapely 2.0. Convert the '.coords' to a numpy array instead.\n",
      "  arr = construct_1d_object_array_from_listlike(values)\n",
      "C:\\ProgramData\\Miniconda3\\lib\\site-packages\\pandas\\core\\dtypes\\cast.py:122: ShapelyDeprecationWarning: The array interface is deprecated and will no longer work in Shapely 2.0. Convert the '.coords' to a numpy array instead.\n",
      "  arr = construct_1d_object_array_from_listlike(values)\n",
      "C:\\ProgramData\\Miniconda3\\lib\\site-packages\\pandas\\core\\dtypes\\cast.py:122: ShapelyDeprecationWarning: The array interface is deprecated and will no longer work in Shapely 2.0. Convert the '.coords' to a numpy array instead.\n",
      "  arr = construct_1d_object_array_from_listlike(values)\n",
      "C:\\ProgramData\\Miniconda3\\lib\\site-packages\\pandas\\core\\dtypes\\cast.py:122: ShapelyDeprecationWarning: The array interface is deprecated and will no longer work in Shapely 2.0. Convert the '.coords' to a numpy array instead.\n",
      "  arr = construct_1d_object_array_from_listlike(values)\n",
      "C:\\ProgramData\\Miniconda3\\lib\\site-packages\\pandas\\core\\dtypes\\cast.py:122: ShapelyDeprecationWarning: The array interface is deprecated and will no longer work in Shapely 2.0. Convert the '.coords' to a numpy array instead.\n",
      "  arr = construct_1d_object_array_from_listlike(values)\n"
     ]
    },
    {
     "name": "stderr",
     "output_type": "stream",
     "text": [
      "C:\\ProgramData\\Miniconda3\\lib\\site-packages\\pandas\\core\\dtypes\\cast.py:122: ShapelyDeprecationWarning: The array interface is deprecated and will no longer work in Shapely 2.0. Convert the '.coords' to a numpy array instead.\n",
      "  arr = construct_1d_object_array_from_listlike(values)\n",
      "C:\\ProgramData\\Miniconda3\\lib\\site-packages\\pandas\\core\\dtypes\\cast.py:122: ShapelyDeprecationWarning: The array interface is deprecated and will no longer work in Shapely 2.0. Convert the '.coords' to a numpy array instead.\n",
      "  arr = construct_1d_object_array_from_listlike(values)\n",
      "C:\\ProgramData\\Miniconda3\\lib\\site-packages\\pandas\\core\\dtypes\\cast.py:122: ShapelyDeprecationWarning: The array interface is deprecated and will no longer work in Shapely 2.0. Convert the '.coords' to a numpy array instead.\n",
      "  arr = construct_1d_object_array_from_listlike(values)\n",
      "C:\\ProgramData\\Miniconda3\\lib\\site-packages\\pandas\\core\\dtypes\\cast.py:122: ShapelyDeprecationWarning: The array interface is deprecated and will no longer work in Shapely 2.0. Convert the '.coords' to a numpy array instead.\n",
      "  arr = construct_1d_object_array_from_listlike(values)\n",
      "C:\\ProgramData\\Miniconda3\\lib\\site-packages\\pandas\\core\\dtypes\\cast.py:122: ShapelyDeprecationWarning: The array interface is deprecated and will no longer work in Shapely 2.0. Convert the '.coords' to a numpy array instead.\n",
      "  arr = construct_1d_object_array_from_listlike(values)\n",
      "C:\\ProgramData\\Miniconda3\\lib\\site-packages\\pandas\\core\\dtypes\\cast.py:122: ShapelyDeprecationWarning: The array interface is deprecated and will no longer work in Shapely 2.0. Convert the '.coords' to a numpy array instead.\n",
      "  arr = construct_1d_object_array_from_listlike(values)\n",
      "C:\\ProgramData\\Miniconda3\\lib\\site-packages\\pandas\\core\\dtypes\\cast.py:122: ShapelyDeprecationWarning: The array interface is deprecated and will no longer work in Shapely 2.0. Convert the '.coords' to a numpy array instead.\n",
      "  arr = construct_1d_object_array_from_listlike(values)\n",
      "C:\\ProgramData\\Miniconda3\\lib\\site-packages\\pandas\\core\\dtypes\\cast.py:122: ShapelyDeprecationWarning: The array interface is deprecated and will no longer work in Shapely 2.0. Convert the '.coords' to a numpy array instead.\n",
      "  arr = construct_1d_object_array_from_listlike(values)\n",
      "C:\\ProgramData\\Miniconda3\\lib\\site-packages\\pandas\\core\\dtypes\\cast.py:122: ShapelyDeprecationWarning: The array interface is deprecated and will no longer work in Shapely 2.0. Convert the '.coords' to a numpy array instead.\n",
      "  arr = construct_1d_object_array_from_listlike(values)\n",
      "C:\\ProgramData\\Miniconda3\\lib\\site-packages\\pandas\\core\\dtypes\\cast.py:122: ShapelyDeprecationWarning: The array interface is deprecated and will no longer work in Shapely 2.0. Convert the '.coords' to a numpy array instead.\n",
      "  arr = construct_1d_object_array_from_listlike(values)\n",
      "C:\\ProgramData\\Miniconda3\\lib\\site-packages\\pandas\\core\\dtypes\\cast.py:122: ShapelyDeprecationWarning: The array interface is deprecated and will no longer work in Shapely 2.0. Convert the '.coords' to a numpy array instead.\n",
      "  arr = construct_1d_object_array_from_listlike(values)\n",
      "C:\\ProgramData\\Miniconda3\\lib\\site-packages\\pandas\\core\\dtypes\\cast.py:122: ShapelyDeprecationWarning: The array interface is deprecated and will no longer work in Shapely 2.0. Convert the '.coords' to a numpy array instead.\n",
      "  arr = construct_1d_object_array_from_listlike(values)\n",
      "C:\\ProgramData\\Miniconda3\\lib\\site-packages\\pandas\\core\\dtypes\\cast.py:122: ShapelyDeprecationWarning: The array interface is deprecated and will no longer work in Shapely 2.0. Convert the '.coords' to a numpy array instead.\n",
      "  arr = construct_1d_object_array_from_listlike(values)\n",
      "C:\\ProgramData\\Miniconda3\\lib\\site-packages\\pandas\\core\\dtypes\\cast.py:122: ShapelyDeprecationWarning: The array interface is deprecated and will no longer work in Shapely 2.0. Convert the '.coords' to a numpy array instead.\n",
      "  arr = construct_1d_object_array_from_listlike(values)\n",
      "C:\\ProgramData\\Miniconda3\\lib\\site-packages\\pandas\\core\\dtypes\\cast.py:122: ShapelyDeprecationWarning: The array interface is deprecated and will no longer work in Shapely 2.0. Convert the '.coords' to a numpy array instead.\n",
      "  arr = construct_1d_object_array_from_listlike(values)\n",
      "C:\\ProgramData\\Miniconda3\\lib\\site-packages\\pandas\\core\\dtypes\\cast.py:122: ShapelyDeprecationWarning: The array interface is deprecated and will no longer work in Shapely 2.0. Convert the '.coords' to a numpy array instead.\n",
      "  arr = construct_1d_object_array_from_listlike(values)\n",
      "C:\\ProgramData\\Miniconda3\\lib\\site-packages\\pandas\\core\\dtypes\\cast.py:122: ShapelyDeprecationWarning: The array interface is deprecated and will no longer work in Shapely 2.0. Convert the '.coords' to a numpy array instead.\n",
      "  arr = construct_1d_object_array_from_listlike(values)\n",
      "C:\\ProgramData\\Miniconda3\\lib\\site-packages\\pandas\\core\\dtypes\\cast.py:122: ShapelyDeprecationWarning: The array interface is deprecated and will no longer work in Shapely 2.0. Convert the '.coords' to a numpy array instead.\n",
      "  arr = construct_1d_object_array_from_listlike(values)\n",
      "C:\\ProgramData\\Miniconda3\\lib\\site-packages\\pandas\\core\\dtypes\\cast.py:122: ShapelyDeprecationWarning: The array interface is deprecated and will no longer work in Shapely 2.0. Convert the '.coords' to a numpy array instead.\n",
      "  arr = construct_1d_object_array_from_listlike(values)\n",
      "C:\\ProgramData\\Miniconda3\\lib\\site-packages\\pandas\\core\\dtypes\\cast.py:122: ShapelyDeprecationWarning: The array interface is deprecated and will no longer work in Shapely 2.0. Convert the '.coords' to a numpy array instead.\n",
      "  arr = construct_1d_object_array_from_listlike(values)\n",
      "C:\\ProgramData\\Miniconda3\\lib\\site-packages\\pandas\\core\\dtypes\\cast.py:122: ShapelyDeprecationWarning: The array interface is deprecated and will no longer work in Shapely 2.0. Convert the '.coords' to a numpy array instead.\n",
      "  arr = construct_1d_object_array_from_listlike(values)\n",
      "C:\\ProgramData\\Miniconda3\\lib\\site-packages\\pandas\\core\\dtypes\\cast.py:122: ShapelyDeprecationWarning: The array interface is deprecated and will no longer work in Shapely 2.0. Convert the '.coords' to a numpy array instead.\n",
      "  arr = construct_1d_object_array_from_listlike(values)\n",
      "C:\\ProgramData\\Miniconda3\\lib\\site-packages\\pandas\\core\\dtypes\\cast.py:122: ShapelyDeprecationWarning: The array interface is deprecated and will no longer work in Shapely 2.0. Convert the '.coords' to a numpy array instead.\n",
      "  arr = construct_1d_object_array_from_listlike(values)\n",
      "C:\\ProgramData\\Miniconda3\\lib\\site-packages\\pandas\\core\\dtypes\\cast.py:122: ShapelyDeprecationWarning: The array interface is deprecated and will no longer work in Shapely 2.0. Convert the '.coords' to a numpy array instead.\n",
      "  arr = construct_1d_object_array_from_listlike(values)\n",
      "C:\\ProgramData\\Miniconda3\\lib\\site-packages\\pandas\\core\\dtypes\\cast.py:122: ShapelyDeprecationWarning: The array interface is deprecated and will no longer work in Shapely 2.0. Convert the '.coords' to a numpy array instead.\n",
      "  arr = construct_1d_object_array_from_listlike(values)\n",
      "C:\\ProgramData\\Miniconda3\\lib\\site-packages\\pandas\\core\\dtypes\\cast.py:122: ShapelyDeprecationWarning: The array interface is deprecated and will no longer work in Shapely 2.0. Convert the '.coords' to a numpy array instead.\n",
      "  arr = construct_1d_object_array_from_listlike(values)\n",
      "C:\\ProgramData\\Miniconda3\\lib\\site-packages\\pandas\\core\\dtypes\\cast.py:122: ShapelyDeprecationWarning: The array interface is deprecated and will no longer work in Shapely 2.0. Convert the '.coords' to a numpy array instead.\n",
      "  arr = construct_1d_object_array_from_listlike(values)\n",
      "C:\\ProgramData\\Miniconda3\\lib\\site-packages\\pandas\\core\\dtypes\\cast.py:122: ShapelyDeprecationWarning: The array interface is deprecated and will no longer work in Shapely 2.0. Convert the '.coords' to a numpy array instead.\n",
      "  arr = construct_1d_object_array_from_listlike(values)\n",
      "C:\\ProgramData\\Miniconda3\\lib\\site-packages\\pandas\\core\\dtypes\\cast.py:122: ShapelyDeprecationWarning: The array interface is deprecated and will no longer work in Shapely 2.0. Convert the '.coords' to a numpy array instead.\n",
      "  arr = construct_1d_object_array_from_listlike(values)\n",
      "C:\\ProgramData\\Miniconda3\\lib\\site-packages\\pandas\\core\\dtypes\\cast.py:122: ShapelyDeprecationWarning: The array interface is deprecated and will no longer work in Shapely 2.0. Convert the '.coords' to a numpy array instead.\n",
      "  arr = construct_1d_object_array_from_listlike(values)\n",
      "C:\\ProgramData\\Miniconda3\\lib\\site-packages\\pandas\\core\\dtypes\\cast.py:122: ShapelyDeprecationWarning: The array interface is deprecated and will no longer work in Shapely 2.0. Convert the '.coords' to a numpy array instead.\n",
      "  arr = construct_1d_object_array_from_listlike(values)\n"
     ]
    },
    {
     "name": "stderr",
     "output_type": "stream",
     "text": [
      "C:\\ProgramData\\Miniconda3\\lib\\site-packages\\pandas\\core\\dtypes\\cast.py:122: ShapelyDeprecationWarning: The array interface is deprecated and will no longer work in Shapely 2.0. Convert the '.coords' to a numpy array instead.\n",
      "  arr = construct_1d_object_array_from_listlike(values)\n",
      "C:\\ProgramData\\Miniconda3\\lib\\site-packages\\pandas\\core\\dtypes\\cast.py:122: ShapelyDeprecationWarning: The array interface is deprecated and will no longer work in Shapely 2.0. Convert the '.coords' to a numpy array instead.\n",
      "  arr = construct_1d_object_array_from_listlike(values)\n",
      "C:\\ProgramData\\Miniconda3\\lib\\site-packages\\pandas\\core\\dtypes\\cast.py:122: ShapelyDeprecationWarning: The array interface is deprecated and will no longer work in Shapely 2.0. Convert the '.coords' to a numpy array instead.\n",
      "  arr = construct_1d_object_array_from_listlike(values)\n",
      "C:\\ProgramData\\Miniconda3\\lib\\site-packages\\pandas\\core\\dtypes\\cast.py:122: ShapelyDeprecationWarning: The array interface is deprecated and will no longer work in Shapely 2.0. Convert the '.coords' to a numpy array instead.\n",
      "  arr = construct_1d_object_array_from_listlike(values)\n",
      "C:\\ProgramData\\Miniconda3\\lib\\site-packages\\pandas\\core\\dtypes\\cast.py:122: ShapelyDeprecationWarning: The array interface is deprecated and will no longer work in Shapely 2.0. Convert the '.coords' to a numpy array instead.\n",
      "  arr = construct_1d_object_array_from_listlike(values)\n",
      "C:\\ProgramData\\Miniconda3\\lib\\site-packages\\pandas\\core\\dtypes\\cast.py:122: ShapelyDeprecationWarning: The array interface is deprecated and will no longer work in Shapely 2.0. Convert the '.coords' to a numpy array instead.\n",
      "  arr = construct_1d_object_array_from_listlike(values)\n",
      "C:\\ProgramData\\Miniconda3\\lib\\site-packages\\pandas\\core\\dtypes\\cast.py:122: ShapelyDeprecationWarning: The array interface is deprecated and will no longer work in Shapely 2.0. Convert the '.coords' to a numpy array instead.\n",
      "  arr = construct_1d_object_array_from_listlike(values)\n",
      "C:\\ProgramData\\Miniconda3\\lib\\site-packages\\pandas\\core\\dtypes\\cast.py:122: ShapelyDeprecationWarning: The array interface is deprecated and will no longer work in Shapely 2.0. Convert the '.coords' to a numpy array instead.\n",
      "  arr = construct_1d_object_array_from_listlike(values)\n",
      "C:\\ProgramData\\Miniconda3\\lib\\site-packages\\pandas\\core\\dtypes\\cast.py:122: ShapelyDeprecationWarning: The array interface is deprecated and will no longer work in Shapely 2.0. Convert the '.coords' to a numpy array instead.\n",
      "  arr = construct_1d_object_array_from_listlike(values)\n",
      "C:\\ProgramData\\Miniconda3\\lib\\site-packages\\pandas\\core\\dtypes\\cast.py:122: ShapelyDeprecationWarning: The array interface is deprecated and will no longer work in Shapely 2.0. Convert the '.coords' to a numpy array instead.\n",
      "  arr = construct_1d_object_array_from_listlike(values)\n",
      "C:\\ProgramData\\Miniconda3\\lib\\site-packages\\pandas\\core\\dtypes\\cast.py:122: ShapelyDeprecationWarning: The array interface is deprecated and will no longer work in Shapely 2.0. Convert the '.coords' to a numpy array instead.\n",
      "  arr = construct_1d_object_array_from_listlike(values)\n",
      "C:\\ProgramData\\Miniconda3\\lib\\site-packages\\pandas\\core\\dtypes\\cast.py:122: ShapelyDeprecationWarning: The array interface is deprecated and will no longer work in Shapely 2.0. Convert the '.coords' to a numpy array instead.\n",
      "  arr = construct_1d_object_array_from_listlike(values)\n",
      "C:\\ProgramData\\Miniconda3\\lib\\site-packages\\pandas\\core\\dtypes\\cast.py:122: ShapelyDeprecationWarning: The array interface is deprecated and will no longer work in Shapely 2.0. Convert the '.coords' to a numpy array instead.\n",
      "  arr = construct_1d_object_array_from_listlike(values)\n",
      "C:\\ProgramData\\Miniconda3\\lib\\site-packages\\pandas\\core\\dtypes\\cast.py:122: ShapelyDeprecationWarning: The array interface is deprecated and will no longer work in Shapely 2.0. Convert the '.coords' to a numpy array instead.\n",
      "  arr = construct_1d_object_array_from_listlike(values)\n",
      "C:\\ProgramData\\Miniconda3\\lib\\site-packages\\pandas\\core\\dtypes\\cast.py:122: ShapelyDeprecationWarning: The array interface is deprecated and will no longer work in Shapely 2.0. Convert the '.coords' to a numpy array instead.\n",
      "  arr = construct_1d_object_array_from_listlike(values)\n",
      "C:\\ProgramData\\Miniconda3\\lib\\site-packages\\pandas\\core\\dtypes\\cast.py:122: ShapelyDeprecationWarning: The array interface is deprecated and will no longer work in Shapely 2.0. Convert the '.coords' to a numpy array instead.\n",
      "  arr = construct_1d_object_array_from_listlike(values)\n",
      "C:\\ProgramData\\Miniconda3\\lib\\site-packages\\pandas\\core\\dtypes\\cast.py:122: ShapelyDeprecationWarning: The array interface is deprecated and will no longer work in Shapely 2.0. Convert the '.coords' to a numpy array instead.\n",
      "  arr = construct_1d_object_array_from_listlike(values)\n",
      "C:\\ProgramData\\Miniconda3\\lib\\site-packages\\pandas\\core\\dtypes\\cast.py:122: ShapelyDeprecationWarning: The array interface is deprecated and will no longer work in Shapely 2.0. Convert the '.coords' to a numpy array instead.\n",
      "  arr = construct_1d_object_array_from_listlike(values)\n",
      "C:\\ProgramData\\Miniconda3\\lib\\site-packages\\pandas\\core\\dtypes\\cast.py:122: ShapelyDeprecationWarning: The array interface is deprecated and will no longer work in Shapely 2.0. Convert the '.coords' to a numpy array instead.\n",
      "  arr = construct_1d_object_array_from_listlike(values)\n",
      "C:\\ProgramData\\Miniconda3\\lib\\site-packages\\pandas\\core\\dtypes\\cast.py:122: ShapelyDeprecationWarning: The array interface is deprecated and will no longer work in Shapely 2.0. Convert the '.coords' to a numpy array instead.\n",
      "  arr = construct_1d_object_array_from_listlike(values)\n",
      "C:\\ProgramData\\Miniconda3\\lib\\site-packages\\pandas\\core\\dtypes\\cast.py:122: ShapelyDeprecationWarning: The array interface is deprecated and will no longer work in Shapely 2.0. Convert the '.coords' to a numpy array instead.\n",
      "  arr = construct_1d_object_array_from_listlike(values)\n",
      "C:\\ProgramData\\Miniconda3\\lib\\site-packages\\pandas\\core\\dtypes\\cast.py:122: ShapelyDeprecationWarning: The array interface is deprecated and will no longer work in Shapely 2.0. Convert the '.coords' to a numpy array instead.\n",
      "  arr = construct_1d_object_array_from_listlike(values)\n",
      "C:\\ProgramData\\Miniconda3\\lib\\site-packages\\pandas\\core\\dtypes\\cast.py:122: ShapelyDeprecationWarning: The array interface is deprecated and will no longer work in Shapely 2.0. Convert the '.coords' to a numpy array instead.\n",
      "  arr = construct_1d_object_array_from_listlike(values)\n",
      "C:\\ProgramData\\Miniconda3\\lib\\site-packages\\pandas\\core\\dtypes\\cast.py:122: ShapelyDeprecationWarning: The array interface is deprecated and will no longer work in Shapely 2.0. Convert the '.coords' to a numpy array instead.\n",
      "  arr = construct_1d_object_array_from_listlike(values)\n",
      "C:\\ProgramData\\Miniconda3\\lib\\site-packages\\pandas\\core\\dtypes\\cast.py:122: ShapelyDeprecationWarning: The array interface is deprecated and will no longer work in Shapely 2.0. Convert the '.coords' to a numpy array instead.\n",
      "  arr = construct_1d_object_array_from_listlike(values)\n",
      "C:\\ProgramData\\Miniconda3\\lib\\site-packages\\pandas\\core\\dtypes\\cast.py:122: ShapelyDeprecationWarning: The array interface is deprecated and will no longer work in Shapely 2.0. Convert the '.coords' to a numpy array instead.\n",
      "  arr = construct_1d_object_array_from_listlike(values)\n",
      "C:\\ProgramData\\Miniconda3\\lib\\site-packages\\pandas\\core\\dtypes\\cast.py:122: ShapelyDeprecationWarning: The array interface is deprecated and will no longer work in Shapely 2.0. Convert the '.coords' to a numpy array instead.\n",
      "  arr = construct_1d_object_array_from_listlike(values)\n",
      "C:\\ProgramData\\Miniconda3\\lib\\site-packages\\pandas\\core\\dtypes\\cast.py:122: ShapelyDeprecationWarning: The array interface is deprecated and will no longer work in Shapely 2.0. Convert the '.coords' to a numpy array instead.\n",
      "  arr = construct_1d_object_array_from_listlike(values)\n",
      "C:\\ProgramData\\Miniconda3\\lib\\site-packages\\pandas\\core\\dtypes\\cast.py:122: ShapelyDeprecationWarning: The array interface is deprecated and will no longer work in Shapely 2.0. Convert the '.coords' to a numpy array instead.\n",
      "  arr = construct_1d_object_array_from_listlike(values)\n",
      "C:\\ProgramData\\Miniconda3\\lib\\site-packages\\pandas\\core\\dtypes\\cast.py:122: ShapelyDeprecationWarning: The array interface is deprecated and will no longer work in Shapely 2.0. Convert the '.coords' to a numpy array instead.\n",
      "  arr = construct_1d_object_array_from_listlike(values)\n"
     ]
    },
    {
     "name": "stderr",
     "output_type": "stream",
     "text": [
      "C:\\ProgramData\\Miniconda3\\lib\\site-packages\\pandas\\core\\dtypes\\cast.py:122: ShapelyDeprecationWarning: The array interface is deprecated and will no longer work in Shapely 2.0. Convert the '.coords' to a numpy array instead.\n",
      "  arr = construct_1d_object_array_from_listlike(values)\n",
      "C:\\ProgramData\\Miniconda3\\lib\\site-packages\\pandas\\core\\dtypes\\cast.py:122: ShapelyDeprecationWarning: The array interface is deprecated and will no longer work in Shapely 2.0. Convert the '.coords' to a numpy array instead.\n",
      "  arr = construct_1d_object_array_from_listlike(values)\n"
     ]
    },
    {
     "name": "stdout",
     "output_type": "stream",
     "text": [
      "Tempo gasto: 0:00:34.970186\n"
     ]
    }
   ],
   "source": [
    "def read_one_user(n):\n",
    "    user_path = '../Data/0'+str(n)+'/labels.txt'\n",
    "    transport_df = pd.read_csv(user_path, sep=\"\\t\")\n",
    "    \n",
    "    directory = '../Data/0'+str(n)+'/Trajectory'\n",
    "    \n",
    "    gps_points_df = pd.DataFrame(columns=['time', 'lat', 'lon', 'alt', 'identifier'])\n",
    "    for filename in os.listdir(directory):\n",
    "        dt_object = datetime.strptime(filename[:-4], '%Y%m%d%H%M%S')\n",
    "        for index, row in transport_df.iterrows():\n",
    "            start = datetime.strptime(row['Start Time'],'%Y/%m/%d %H:%M:%S')\n",
    "            end = datetime.strptime(row['End Time'],'%Y/%m/%d %H:%M:%S')\n",
    "            if dt_object >= start and dt_object <= end:\n",
    "                file_df = pd.read_csv(directory+'/'+filename, skiprows=6, header=None,\n",
    "                         parse_dates=[[5, 6]], infer_datetime_format=True)\n",
    "                file_df.rename(inplace=True, columns={'5_6': 'time', 0: 'lat', 1: 'lon', 3: 'alt'})\n",
    "                file_df.drop(inplace=True, columns=[2, 4])\n",
    "                file_df['identifier'] = index\n",
    "                file_df['geometry'] = [Point(lon, lat) for lon, lat in \n",
    "                             zip(file_df['lon'].to_list(), file_df['lat'].to_list())]\n",
    "                gps_points_df = pd.concat([gps_points_df,file_df])\n",
    "                \n",
    "    return transport_df,gps_points_df\n",
    "\n",
    "start = datetime.now()\n",
    "transport_df,gps_points_df = read_one_user(10)\n",
    "\n",
    "end = datetime.now()\n",
    "print('Tempo gasto:',end-start)"
   ]
  },
  {
   "cell_type": "code",
   "execution_count": 15,
   "id": "27c3cdfe",
   "metadata": {},
   "outputs": [
    {
     "data": {
      "text/html": [
       "<div>\n",
       "<style scoped>\n",
       "    .dataframe tbody tr th:only-of-type {\n",
       "        vertical-align: middle;\n",
       "    }\n",
       "\n",
       "    .dataframe tbody tr th {\n",
       "        vertical-align: top;\n",
       "    }\n",
       "\n",
       "    .dataframe thead th {\n",
       "        text-align: right;\n",
       "    }\n",
       "</style>\n",
       "<table border=\"1\" class=\"dataframe\">\n",
       "  <thead>\n",
       "    <tr style=\"text-align: right;\">\n",
       "      <th></th>\n",
       "      <th>Start Time</th>\n",
       "      <th>End Time</th>\n",
       "      <th>Transportation Mode</th>\n",
       "    </tr>\n",
       "  </thead>\n",
       "  <tbody>\n",
       "    <tr>\n",
       "      <th>0</th>\n",
       "      <td>2007/06/26 11:32:29</td>\n",
       "      <td>2007/06/26 11:40:29</td>\n",
       "      <td>bus</td>\n",
       "    </tr>\n",
       "    <tr>\n",
       "      <th>1</th>\n",
       "      <td>2008/03/28 14:52:54</td>\n",
       "      <td>2008/03/28 15:59:59</td>\n",
       "      <td>train</td>\n",
       "    </tr>\n",
       "    <tr>\n",
       "      <th>2</th>\n",
       "      <td>2008/03/28 16:00:00</td>\n",
       "      <td>2008/03/28 22:02:00</td>\n",
       "      <td>train</td>\n",
       "    </tr>\n",
       "    <tr>\n",
       "      <th>3</th>\n",
       "      <td>2008/03/29 01:27:50</td>\n",
       "      <td>2008/03/29 15:59:59</td>\n",
       "      <td>train</td>\n",
       "    </tr>\n",
       "    <tr>\n",
       "      <th>4</th>\n",
       "      <td>2008/03/29 16:00:00</td>\n",
       "      <td>2008/03/30 15:59:59</td>\n",
       "      <td>train</td>\n",
       "    </tr>\n",
       "    <tr>\n",
       "      <th>...</th>\n",
       "      <td>...</td>\n",
       "      <td>...</td>\n",
       "      <td>...</td>\n",
       "    </tr>\n",
       "    <tr>\n",
       "      <th>429</th>\n",
       "      <td>2008/12/07 10:30:54</td>\n",
       "      <td>2008/12/07 10:34:14</td>\n",
       "      <td>taxi</td>\n",
       "    </tr>\n",
       "    <tr>\n",
       "      <th>430</th>\n",
       "      <td>2008/12/07 10:59:29</td>\n",
       "      <td>2008/12/07 11:29:48</td>\n",
       "      <td>train</td>\n",
       "    </tr>\n",
       "    <tr>\n",
       "      <th>431</th>\n",
       "      <td>2008/12/07 11:43:12</td>\n",
       "      <td>2008/12/07 12:23:26</td>\n",
       "      <td>bus</td>\n",
       "    </tr>\n",
       "    <tr>\n",
       "      <th>432</th>\n",
       "      <td>2008/12/07 12:23:34</td>\n",
       "      <td>2008/12/07 12:25:07</td>\n",
       "      <td>walk</td>\n",
       "    </tr>\n",
       "    <tr>\n",
       "      <th>433</th>\n",
       "      <td>2008/12/07 12:25:34</td>\n",
       "      <td>2008/12/07 12:37:28</td>\n",
       "      <td>taxi</td>\n",
       "    </tr>\n",
       "  </tbody>\n",
       "</table>\n",
       "<p>434 rows × 3 columns</p>\n",
       "</div>"
      ],
      "text/plain": [
       "              Start Time             End Time Transportation Mode\n",
       "0    2007/06/26 11:32:29  2007/06/26 11:40:29                 bus\n",
       "1    2008/03/28 14:52:54  2008/03/28 15:59:59               train\n",
       "2    2008/03/28 16:00:00  2008/03/28 22:02:00               train\n",
       "3    2008/03/29 01:27:50  2008/03/29 15:59:59               train\n",
       "4    2008/03/29 16:00:00  2008/03/30 15:59:59               train\n",
       "..                   ...                  ...                 ...\n",
       "429  2008/12/07 10:30:54  2008/12/07 10:34:14                taxi\n",
       "430  2008/12/07 10:59:29  2008/12/07 11:29:48               train\n",
       "431  2008/12/07 11:43:12  2008/12/07 12:23:26                 bus\n",
       "432  2008/12/07 12:23:34  2008/12/07 12:25:07                walk\n",
       "433  2008/12/07 12:25:34  2008/12/07 12:37:28                taxi\n",
       "\n",
       "[434 rows x 3 columns]"
      ]
     },
     "execution_count": 15,
     "metadata": {},
     "output_type": "execute_result"
    }
   ],
   "source": [
    "transport_df"
   ]
  },
  {
   "cell_type": "code",
   "execution_count": 67,
   "id": "dc2fa005",
   "metadata": {},
   "outputs": [
    {
     "data": {
      "text/html": [
       "<div>\n",
       "<style scoped>\n",
       "    .dataframe tbody tr th:only-of-type {\n",
       "        vertical-align: middle;\n",
       "    }\n",
       "\n",
       "    .dataframe tbody tr th {\n",
       "        vertical-align: top;\n",
       "    }\n",
       "\n",
       "    .dataframe thead th {\n",
       "        text-align: right;\n",
       "    }\n",
       "</style>\n",
       "<table border=\"1\" class=\"dataframe\">\n",
       "  <thead>\n",
       "    <tr style=\"text-align: right;\">\n",
       "      <th></th>\n",
       "      <th>time</th>\n",
       "      <th>lat</th>\n",
       "      <th>lon</th>\n",
       "      <th>alt</th>\n",
       "      <th>identifier</th>\n",
       "      <th>geometry</th>\n",
       "    </tr>\n",
       "  </thead>\n",
       "  <tbody>\n",
       "    <tr>\n",
       "      <th>0</th>\n",
       "      <td>2008-03-28 16:00:01</td>\n",
       "      <td>39.50293</td>\n",
       "      <td>116.714948</td>\n",
       "      <td>-777</td>\n",
       "      <td>2</td>\n",
       "      <td>POINT (116.71495 39.50293)</td>\n",
       "    </tr>\n",
       "    <tr>\n",
       "      <th>1</th>\n",
       "      <td>2008-03-28 16:01:00</td>\n",
       "      <td>39.497045</td>\n",
       "      <td>116.726137</td>\n",
       "      <td>-777</td>\n",
       "      <td>2</td>\n",
       "      <td>POINT (116.72614 39.49704)</td>\n",
       "    </tr>\n",
       "    <tr>\n",
       "      <th>2</th>\n",
       "      <td>2008-03-28 16:01:59</td>\n",
       "      <td>39.489695</td>\n",
       "      <td>116.740047</td>\n",
       "      <td>-777</td>\n",
       "      <td>2</td>\n",
       "      <td>POINT (116.74005 39.48969)</td>\n",
       "    </tr>\n",
       "    <tr>\n",
       "      <th>3</th>\n",
       "      <td>2008-03-28 16:02:59</td>\n",
       "      <td>39.481438</td>\n",
       "      <td>116.755648</td>\n",
       "      <td>-777</td>\n",
       "      <td>2</td>\n",
       "      <td>POINT (116.75565 39.48144)</td>\n",
       "    </tr>\n",
       "    <tr>\n",
       "      <th>4</th>\n",
       "      <td>2008-03-28 16:03:58</td>\n",
       "      <td>39.472748</td>\n",
       "      <td>116.770972</td>\n",
       "      <td>-777</td>\n",
       "      <td>2</td>\n",
       "      <td>POINT (116.77097 39.47275)</td>\n",
       "    </tr>\n",
       "    <tr>\n",
       "      <th>...</th>\n",
       "      <td>...</td>\n",
       "      <td>...</td>\n",
       "      <td>...</td>\n",
       "      <td>...</td>\n",
       "      <td>...</td>\n",
       "      <td>...</td>\n",
       "    </tr>\n",
       "    <tr>\n",
       "      <th>3691</th>\n",
       "      <td>2008-12-07 12:37:24</td>\n",
       "      <td>39.991644</td>\n",
       "      <td>116.326376</td>\n",
       "      <td>184</td>\n",
       "      <td>427</td>\n",
       "      <td>POINT (116.32638 39.99164)</td>\n",
       "    </tr>\n",
       "    <tr>\n",
       "      <th>3692</th>\n",
       "      <td>2008-12-07 12:37:25</td>\n",
       "      <td>39.991641</td>\n",
       "      <td>116.326325</td>\n",
       "      <td>180</td>\n",
       "      <td>427</td>\n",
       "      <td>POINT (116.32632 39.99164)</td>\n",
       "    </tr>\n",
       "    <tr>\n",
       "      <th>3693</th>\n",
       "      <td>2008-12-07 12:37:26</td>\n",
       "      <td>39.991641</td>\n",
       "      <td>116.326289</td>\n",
       "      <td>177</td>\n",
       "      <td>427</td>\n",
       "      <td>POINT (116.32629 39.99164)</td>\n",
       "    </tr>\n",
       "    <tr>\n",
       "      <th>3694</th>\n",
       "      <td>2008-12-07 12:37:27</td>\n",
       "      <td>39.991643</td>\n",
       "      <td>116.326273</td>\n",
       "      <td>174</td>\n",
       "      <td>427</td>\n",
       "      <td>POINT (116.32627 39.99164)</td>\n",
       "    </tr>\n",
       "    <tr>\n",
       "      <th>3695</th>\n",
       "      <td>2008-12-07 12:37:28</td>\n",
       "      <td>39.991644</td>\n",
       "      <td>116.326263</td>\n",
       "      <td>167</td>\n",
       "      <td>427</td>\n",
       "      <td>POINT (116.32626 39.99164)</td>\n",
       "    </tr>\n",
       "  </tbody>\n",
       "</table>\n",
       "<p>535856 rows × 6 columns</p>\n",
       "</div>"
      ],
      "text/plain": [
       "                     time        lat         lon   alt identifier  \\\n",
       "0     2008-03-28 16:00:01   39.50293  116.714948  -777          2   \n",
       "1     2008-03-28 16:01:00  39.497045  116.726137  -777          2   \n",
       "2     2008-03-28 16:01:59  39.489695  116.740047  -777          2   \n",
       "3     2008-03-28 16:02:59  39.481438  116.755648  -777          2   \n",
       "4     2008-03-28 16:03:58  39.472748  116.770972  -777          2   \n",
       "...                   ...        ...         ...   ...        ...   \n",
       "3691  2008-12-07 12:37:24  39.991644  116.326376   184        427   \n",
       "3692  2008-12-07 12:37:25  39.991641  116.326325   180        427   \n",
       "3693  2008-12-07 12:37:26  39.991641  116.326289   177        427   \n",
       "3694  2008-12-07 12:37:27  39.991643  116.326273   174        427   \n",
       "3695  2008-12-07 12:37:28  39.991644  116.326263   167        427   \n",
       "\n",
       "                        geometry  \n",
       "0     POINT (116.71495 39.50293)  \n",
       "1     POINT (116.72614 39.49704)  \n",
       "2     POINT (116.74005 39.48969)  \n",
       "3     POINT (116.75565 39.48144)  \n",
       "4     POINT (116.77097 39.47275)  \n",
       "...                          ...  \n",
       "3691  POINT (116.32638 39.99164)  \n",
       "3692  POINT (116.32632 39.99164)  \n",
       "3693  POINT (116.32629 39.99164)  \n",
       "3694  POINT (116.32627 39.99164)  \n",
       "3695  POINT (116.32626 39.99164)  \n",
       "\n",
       "[535856 rows x 6 columns]"
      ]
     },
     "execution_count": 67,
     "metadata": {},
     "output_type": "execute_result"
    }
   ],
   "source": [
    "gps_points_df"
   ]
  },
  {
   "cell_type": "code",
   "execution_count": 68,
   "id": "a462bcd2",
   "metadata": {},
   "outputs": [
    {
     "name": "stdout",
     "output_type": "stream",
     "text": [
      "Tempo gasto criando geodata: 0:00:00.578270\n",
      "Tempo gasto criando TrajectoryCollection: 0:02:57.163647\n"
     ]
    },
    {
     "name": "stderr",
     "output_type": "stream",
     "text": [
      "C:\\ProgramData\\Miniconda3\\lib\\site-packages\\movingpandas\\geometry_utils.py:150: ShapelyDeprecationWarning: __len__ for multi-part geometries is deprecated and will be removed in Shapely 2.0. Check the length of the `geoms` property instead to get the  number of parts of a multi-part geometry.\n",
      "  if len(geom) == 2:\n",
      "C:\\ProgramData\\Miniconda3\\lib\\site-packages\\movingpandas\\geometry_utils.py:151: ShapelyDeprecationWarning: __getitem__ for multi-part geometries is deprecated and will be removed in Shapely 2.0. Use the `geoms` property to access the constituent parts of a multi-part geometry.\n",
      "  return _measure_distance(geom[0], geom[1], spherical)\n"
     ]
    },
    {
     "name": "stdout",
     "output_type": "stream",
     "text": [
      "Tempo gasto criando stops df: 0:18:20.594942\n"
     ]
    },
    {
     "data": {
      "text/plain": [
       "TrajectoryCollection with 3121 trajectories"
      ]
     },
     "execution_count": 68,
     "metadata": {},
     "output_type": "execute_result"
    }
   ],
   "source": [
    "start = datetime.now()\n",
    "\n",
    "gps_points_geometry_df = gps_points_df\n",
    "\n",
    "# Creating a Geodataframe. Be aware it is CRS 4326 WGS84\n",
    "# A GeoDataFrame object is a pandas.DataFrame that has a column with geometry\n",
    "# It has one GeoSeries column that holds a special status. \n",
    "# This GeoSeries is referred to as the GeoDataFrame’s “geometry”. \n",
    "# A GeoSeries is essentially a vector where each entry in the vector is a set \n",
    "# of shapes corresponding to one observation.\n",
    "geodata = gpd.GeoDataFrame(gps_points_geometry_df, crs = CRS.from_epsg('4326'))\n",
    "geodata = geodata.set_index('time')\n",
    "\n",
    "geo = datetime.now()\n",
    "print('Tempo gasto criando geodata:',geo-start)\n",
    "\n",
    "# Create a Trajectory Collection with Movingpandas\n",
    "# data(list[Trajectory] or GeoDataFrame or DataFrame)–List of Trajectory \n",
    "#     objects or a GeoDataFrame with trajectory IDs, point geometry column \n",
    "#     and timestamp index\n",
    "# traj_id_col(string)–Name of the GeoDataFrame column containing trajectory IDs\n",
    "traj_collection = mpd.TrajectoryCollection(geodata, 'identifier')\n",
    "\n",
    "traj = datetime.now()\n",
    "print('Tempo gasto criando TrajectoryCollection:',traj-geo)\n",
    "\n",
    "\n",
    "'''\n",
    "Since each transportation mode must have different parameters for stop point detecion, maybe the part below should be done\n",
    "inside a for loop tha checks the transport mode before setting the parameters.\n",
    "Read https://www.researchgate.net/publication/259322953_Trip_Reconstruction_and_Transportation_Mode_Extraction_on_Low_Data_Rate_GPS_Data_from_Mobile_Phone\n",
    "Maybe select another stop point detection algorithm\n",
    "'''\n",
    "\n",
    "\n",
    "# Detects stops in a trajectory. A stop is detected if the movement stays \n",
    "# within an area of specified size for at least the specified duration.\n",
    "# Define parameters in Hours and Search radius in meters\n",
    "Hours = .01\n",
    "SearchRadio = 500\n",
    "stops = mpd.TrajectoryStopDetector(traj_collection).get_stop_segments(min_duration=timedelta(hours=Hours), max_diameter=SearchRadio)\n",
    "\n",
    "trajstop = datetime.now()\n",
    "print('Tempo gasto criando stops df:',trajstop-traj)\n",
    "\n",
    "stops"
   ]
  },
  {
   "cell_type": "code",
   "execution_count": 69,
   "id": "477918cd",
   "metadata": {},
   "outputs": [
    {
     "data": {
      "text/html": [
       "<div>\n",
       "<style scoped>\n",
       "    .dataframe tbody tr th:only-of-type {\n",
       "        vertical-align: middle;\n",
       "    }\n",
       "\n",
       "    .dataframe tbody tr th {\n",
       "        vertical-align: top;\n",
       "    }\n",
       "\n",
       "    .dataframe thead th {\n",
       "        text-align: right;\n",
       "    }\n",
       "</style>\n",
       "<table border=\"1\" class=\"dataframe\">\n",
       "  <thead>\n",
       "    <tr style=\"text-align: right;\">\n",
       "      <th></th>\n",
       "      <th>geometry</th>\n",
       "    </tr>\n",
       "    <tr>\n",
       "      <th>stop_id</th>\n",
       "      <th></th>\n",
       "    </tr>\n",
       "  </thead>\n",
       "  <tbody>\n",
       "    <tr>\n",
       "      <th>2_2008-03-28 16:32:37</th>\n",
       "      <td>None</td>\n",
       "    </tr>\n",
       "    <tr>\n",
       "      <th>2_2008-03-28 16:43:30</th>\n",
       "      <td>None</td>\n",
       "    </tr>\n",
       "    <tr>\n",
       "      <th>2_2008-03-28 16:46:28</th>\n",
       "      <td>None</td>\n",
       "    </tr>\n",
       "    <tr>\n",
       "      <th>2_2008-03-28 17:19:04</th>\n",
       "      <td>None</td>\n",
       "    </tr>\n",
       "    <tr>\n",
       "      <th>2_2008-03-28 17:38:49</th>\n",
       "      <td>None</td>\n",
       "    </tr>\n",
       "    <tr>\n",
       "      <th>...</th>\n",
       "      <td>...</td>\n",
       "    </tr>\n",
       "    <tr>\n",
       "      <th>427_2008-12-07 12:28:57</th>\n",
       "      <td>None</td>\n",
       "    </tr>\n",
       "    <tr>\n",
       "      <th>427_2008-12-07 12:29:45</th>\n",
       "      <td>None</td>\n",
       "    </tr>\n",
       "    <tr>\n",
       "      <th>427_2008-12-07 12:31:48</th>\n",
       "      <td>None</td>\n",
       "    </tr>\n",
       "    <tr>\n",
       "      <th>427_2008-12-07 12:32:27</th>\n",
       "      <td>None</td>\n",
       "    </tr>\n",
       "    <tr>\n",
       "      <th>427_2008-12-07 12:35:20</th>\n",
       "      <td>None</td>\n",
       "    </tr>\n",
       "  </tbody>\n",
       "</table>\n",
       "<p>3121 rows × 1 columns</p>\n",
       "</div>"
      ],
      "text/plain": [
       "                        geometry\n",
       "stop_id                         \n",
       "2_2008-03-28 16:32:37       None\n",
       "2_2008-03-28 16:43:30       None\n",
       "2_2008-03-28 16:46:28       None\n",
       "2_2008-03-28 17:19:04       None\n",
       "2_2008-03-28 17:38:49       None\n",
       "...                          ...\n",
       "427_2008-12-07 12:28:57     None\n",
       "427_2008-12-07 12:29:45     None\n",
       "427_2008-12-07 12:31:48     None\n",
       "427_2008-12-07 12:32:27     None\n",
       "427_2008-12-07 12:35:20     None\n",
       "\n",
       "[3121 rows x 1 columns]"
      ]
     },
     "execution_count": 69,
     "metadata": {},
     "output_type": "execute_result"
    }
   ],
   "source": [
    "# Create a new Geodataframe and define geometry column\n",
    "stops_start = gpd.GeoDataFrame(columns = ['geometry'])\n",
    "stops_start = stops_start.set_geometry('geometry')\n",
    "\n",
    "# Add the ID of each stop track and define it as index\n",
    "stops_start['stop_id'] = [track.id for track in stops.trajectories]\n",
    "stops_start = stops_start.set_index('stop_id')\n",
    "stops_start"
   ]
  },
  {
   "cell_type": "code",
   "execution_count": 70,
   "id": "94f5c443",
   "metadata": {},
   "outputs": [
    {
     "name": "stdout",
     "output_type": "stream",
     "text": [
      "Tempo gasto criando stops df: 0:01:13.966339\n"
     ]
    }
   ],
   "source": [
    "start = datetime.now()\n",
    "\n",
    "# Iteration over the Stop Trajectories\n",
    "for stoptrack in stops.trajectories:\n",
    "\n",
    "    # add stop duration in hours\n",
    "    stops_start.at[stoptrack.id,'duration_h'] = stoptrack.get_duration().total_seconds()/3600\n",
    "\n",
    "    # add length\n",
    "    stops_start.at[stoptrack.id, 'length_m'] = stoptrack.get_length()\n",
    "\n",
    "    # add traj id\n",
    "    stops_start.at[stoptrack.id, 'identifier'] = stoptrack.id.split('_')[0]\n",
    "\n",
    "    # add datetime\n",
    "    stops_start.at[stoptrack.id, 'datetime'] = pd.to_datetime(stoptrack.id.split('_')[1]).tz_localize(None)\n",
    "\n",
    "    # geometry with start point\n",
    "    stops_start.at[stoptrack.id, 'geometry'] = stoptrack.get_start_location()\n",
    "    \n",
    "# Reset indexes\n",
    "stops_start = stops_start.reset_index(drop=True)\n",
    "geodata = geodata.reset_index(drop=True)\n",
    "\n",
    "end = datetime.now()\n",
    "print('Tempo gasto criando stops df:',end-start)"
   ]
  },
  {
   "cell_type": "code",
   "execution_count": 71,
   "id": "710f46b5",
   "metadata": {},
   "outputs": [
    {
     "data": {
      "text/html": [
       "<div>\n",
       "<style scoped>\n",
       "    .dataframe tbody tr th:only-of-type {\n",
       "        vertical-align: middle;\n",
       "    }\n",
       "\n",
       "    .dataframe tbody tr th {\n",
       "        vertical-align: top;\n",
       "    }\n",
       "\n",
       "    .dataframe thead th {\n",
       "        text-align: right;\n",
       "    }\n",
       "</style>\n",
       "<table border=\"1\" class=\"dataframe\">\n",
       "  <thead>\n",
       "    <tr style=\"text-align: right;\">\n",
       "      <th></th>\n",
       "      <th>geometry</th>\n",
       "      <th>duration_h</th>\n",
       "      <th>length_m</th>\n",
       "      <th>identifier</th>\n",
       "      <th>datetime</th>\n",
       "    </tr>\n",
       "  </thead>\n",
       "  <tbody>\n",
       "    <tr>\n",
       "      <th>0</th>\n",
       "      <td>POINT (117.17040 39.20779)</td>\n",
       "      <td>0.033056</td>\n",
       "      <td>299.454242</td>\n",
       "      <td>2</td>\n",
       "      <td>2008-03-28 16:32:37</td>\n",
       "    </tr>\n",
       "    <tr>\n",
       "      <th>1</th>\n",
       "      <td>POINT (117.16743 39.15713)</td>\n",
       "      <td>0.016389</td>\n",
       "      <td>488.160124</td>\n",
       "      <td>2</td>\n",
       "      <td>2008-03-28 16:43:30</td>\n",
       "    </tr>\n",
       "    <tr>\n",
       "      <th>2</th>\n",
       "      <td>POINT (117.16133 39.15702)</td>\n",
       "      <td>0.081944</td>\n",
       "      <td>131.829639</td>\n",
       "      <td>2</td>\n",
       "      <td>2008-03-28 16:46:28</td>\n",
       "    </tr>\n",
       "    <tr>\n",
       "      <th>3</th>\n",
       "      <td>POINT (116.92513 38.93538)</td>\n",
       "      <td>0.049167</td>\n",
       "      <td>338.851630</td>\n",
       "      <td>2</td>\n",
       "      <td>2008-03-28 17:19:04</td>\n",
       "    </tr>\n",
       "    <tr>\n",
       "      <th>4</th>\n",
       "      <td>POINT (116.92534 38.71102)</td>\n",
       "      <td>0.049444</td>\n",
       "      <td>429.005581</td>\n",
       "      <td>2</td>\n",
       "      <td>2008-03-28 17:38:49</td>\n",
       "    </tr>\n",
       "    <tr>\n",
       "      <th>...</th>\n",
       "      <td>...</td>\n",
       "      <td>...</td>\n",
       "      <td>...</td>\n",
       "      <td>...</td>\n",
       "      <td>...</td>\n",
       "    </tr>\n",
       "    <tr>\n",
       "      <th>3116</th>\n",
       "      <td>POINT (116.34740 39.98475)</td>\n",
       "      <td>0.012500</td>\n",
       "      <td>487.697674</td>\n",
       "      <td>427</td>\n",
       "      <td>2008-12-07 12:28:57</td>\n",
       "    </tr>\n",
       "    <tr>\n",
       "      <th>3117</th>\n",
       "      <td>POINT (116.34710 39.98953)</td>\n",
       "      <td>0.033611</td>\n",
       "      <td>677.502670</td>\n",
       "      <td>427</td>\n",
       "      <td>2008-12-07 12:29:45</td>\n",
       "    </tr>\n",
       "    <tr>\n",
       "      <th>3118</th>\n",
       "      <td>POINT (116.34185 39.99191)</td>\n",
       "      <td>0.010278</td>\n",
       "      <td>495.055306</td>\n",
       "      <td>427</td>\n",
       "      <td>2008-12-07 12:31:48</td>\n",
       "    </tr>\n",
       "    <tr>\n",
       "      <th>3119</th>\n",
       "      <td>POINT (116.33574 39.99174)</td>\n",
       "      <td>0.047500</td>\n",
       "      <td>502.893288</td>\n",
       "      <td>427</td>\n",
       "      <td>2008-12-07 12:32:27</td>\n",
       "    </tr>\n",
       "    <tr>\n",
       "      <th>3120</th>\n",
       "      <td>POINT (116.32974 39.99162)</td>\n",
       "      <td>0.035556</td>\n",
       "      <td>299.124464</td>\n",
       "      <td>427</td>\n",
       "      <td>2008-12-07 12:35:20</td>\n",
       "    </tr>\n",
       "  </tbody>\n",
       "</table>\n",
       "<p>3121 rows × 5 columns</p>\n",
       "</div>"
      ],
      "text/plain": [
       "                        geometry  duration_h    length_m identifier  \\\n",
       "0     POINT (117.17040 39.20779)    0.033056  299.454242          2   \n",
       "1     POINT (117.16743 39.15713)    0.016389  488.160124          2   \n",
       "2     POINT (117.16133 39.15702)    0.081944  131.829639          2   \n",
       "3     POINT (116.92513 38.93538)    0.049167  338.851630          2   \n",
       "4     POINT (116.92534 38.71102)    0.049444  429.005581          2   \n",
       "...                          ...         ...         ...        ...   \n",
       "3116  POINT (116.34740 39.98475)    0.012500  487.697674        427   \n",
       "3117  POINT (116.34710 39.98953)    0.033611  677.502670        427   \n",
       "3118  POINT (116.34185 39.99191)    0.010278  495.055306        427   \n",
       "3119  POINT (116.33574 39.99174)    0.047500  502.893288        427   \n",
       "3120  POINT (116.32974 39.99162)    0.035556  299.124464        427   \n",
       "\n",
       "                datetime  \n",
       "0    2008-03-28 16:32:37  \n",
       "1    2008-03-28 16:43:30  \n",
       "2    2008-03-28 16:46:28  \n",
       "3    2008-03-28 17:19:04  \n",
       "4    2008-03-28 17:38:49  \n",
       "...                  ...  \n",
       "3116 2008-12-07 12:28:57  \n",
       "3117 2008-12-07 12:29:45  \n",
       "3118 2008-12-07 12:31:48  \n",
       "3119 2008-12-07 12:32:27  \n",
       "3120 2008-12-07 12:35:20  \n",
       "\n",
       "[3121 rows x 5 columns]"
      ]
     },
     "execution_count": 71,
     "metadata": {},
     "output_type": "execute_result"
    }
   ],
   "source": [
    "stops_start"
   ]
  },
  {
   "cell_type": "code",
   "execution_count": 72,
   "id": "6a5f8ac2",
   "metadata": {},
   "outputs": [
    {
     "data": {
      "text/html": [
       "<div>\n",
       "<style scoped>\n",
       "    .dataframe tbody tr th:only-of-type {\n",
       "        vertical-align: middle;\n",
       "    }\n",
       "\n",
       "    .dataframe tbody tr th {\n",
       "        vertical-align: top;\n",
       "    }\n",
       "\n",
       "    .dataframe thead th {\n",
       "        text-align: right;\n",
       "    }\n",
       "</style>\n",
       "<table border=\"1\" class=\"dataframe\">\n",
       "  <thead>\n",
       "    <tr style=\"text-align: right;\">\n",
       "      <th></th>\n",
       "      <th>lat</th>\n",
       "      <th>lon</th>\n",
       "      <th>alt</th>\n",
       "      <th>identifier</th>\n",
       "      <th>geometry</th>\n",
       "    </tr>\n",
       "  </thead>\n",
       "  <tbody>\n",
       "    <tr>\n",
       "      <th>0</th>\n",
       "      <td>39.50293</td>\n",
       "      <td>116.714948</td>\n",
       "      <td>-777</td>\n",
       "      <td>2</td>\n",
       "      <td>POINT (116.71495 39.50293)</td>\n",
       "    </tr>\n",
       "    <tr>\n",
       "      <th>1</th>\n",
       "      <td>39.497045</td>\n",
       "      <td>116.726137</td>\n",
       "      <td>-777</td>\n",
       "      <td>2</td>\n",
       "      <td>POINT (116.72614 39.49704)</td>\n",
       "    </tr>\n",
       "    <tr>\n",
       "      <th>2</th>\n",
       "      <td>39.489695</td>\n",
       "      <td>116.740047</td>\n",
       "      <td>-777</td>\n",
       "      <td>2</td>\n",
       "      <td>POINT (116.74005 39.48969)</td>\n",
       "    </tr>\n",
       "    <tr>\n",
       "      <th>3</th>\n",
       "      <td>39.481438</td>\n",
       "      <td>116.755648</td>\n",
       "      <td>-777</td>\n",
       "      <td>2</td>\n",
       "      <td>POINT (116.75565 39.48144)</td>\n",
       "    </tr>\n",
       "    <tr>\n",
       "      <th>4</th>\n",
       "      <td>39.472748</td>\n",
       "      <td>116.770972</td>\n",
       "      <td>-777</td>\n",
       "      <td>2</td>\n",
       "      <td>POINT (116.77097 39.47275)</td>\n",
       "    </tr>\n",
       "    <tr>\n",
       "      <th>...</th>\n",
       "      <td>...</td>\n",
       "      <td>...</td>\n",
       "      <td>...</td>\n",
       "      <td>...</td>\n",
       "      <td>...</td>\n",
       "    </tr>\n",
       "    <tr>\n",
       "      <th>535851</th>\n",
       "      <td>39.991644</td>\n",
       "      <td>116.326376</td>\n",
       "      <td>184</td>\n",
       "      <td>427</td>\n",
       "      <td>POINT (116.32638 39.99164)</td>\n",
       "    </tr>\n",
       "    <tr>\n",
       "      <th>535852</th>\n",
       "      <td>39.991641</td>\n",
       "      <td>116.326325</td>\n",
       "      <td>180</td>\n",
       "      <td>427</td>\n",
       "      <td>POINT (116.32632 39.99164)</td>\n",
       "    </tr>\n",
       "    <tr>\n",
       "      <th>535853</th>\n",
       "      <td>39.991641</td>\n",
       "      <td>116.326289</td>\n",
       "      <td>177</td>\n",
       "      <td>427</td>\n",
       "      <td>POINT (116.32629 39.99164)</td>\n",
       "    </tr>\n",
       "    <tr>\n",
       "      <th>535854</th>\n",
       "      <td>39.991643</td>\n",
       "      <td>116.326273</td>\n",
       "      <td>174</td>\n",
       "      <td>427</td>\n",
       "      <td>POINT (116.32627 39.99164)</td>\n",
       "    </tr>\n",
       "    <tr>\n",
       "      <th>535855</th>\n",
       "      <td>39.991644</td>\n",
       "      <td>116.326263</td>\n",
       "      <td>167</td>\n",
       "      <td>427</td>\n",
       "      <td>POINT (116.32626 39.99164)</td>\n",
       "    </tr>\n",
       "  </tbody>\n",
       "</table>\n",
       "<p>535856 rows × 5 columns</p>\n",
       "</div>"
      ],
      "text/plain": [
       "              lat         lon   alt identifier                    geometry\n",
       "0        39.50293  116.714948  -777          2  POINT (116.71495 39.50293)\n",
       "1       39.497045  116.726137  -777          2  POINT (116.72614 39.49704)\n",
       "2       39.489695  116.740047  -777          2  POINT (116.74005 39.48969)\n",
       "3       39.481438  116.755648  -777          2  POINT (116.75565 39.48144)\n",
       "4       39.472748  116.770972  -777          2  POINT (116.77097 39.47275)\n",
       "...           ...         ...   ...        ...                         ...\n",
       "535851  39.991644  116.326376   184        427  POINT (116.32638 39.99164)\n",
       "535852  39.991641  116.326325   180        427  POINT (116.32632 39.99164)\n",
       "535853  39.991641  116.326289   177        427  POINT (116.32629 39.99164)\n",
       "535854  39.991643  116.326273   174        427  POINT (116.32627 39.99164)\n",
       "535855  39.991644  116.326263   167        427  POINT (116.32626 39.99164)\n",
       "\n",
       "[535856 rows x 5 columns]"
      ]
     },
     "execution_count": 72,
     "metadata": {},
     "output_type": "execute_result"
    }
   ],
   "source": [
    "geodata"
   ]
  },
  {
   "cell_type": "code",
   "execution_count": 143,
   "id": "226706ca",
   "metadata": {
    "scrolled": false
   },
   "outputs": [
    {
     "name": "stdout",
     "output_type": "stream",
     "text": [
      "Tempo gasto gerando imagens: 0:00:35.518126\n"
     ]
    }
   ],
   "source": [
    "from math import log\n",
    "\n",
    "start = datetime.now()\n",
    "\n",
    "point_density_table = []\n",
    "\n",
    "######### compare points in stops_start and geodata. \n",
    "######### try plotting each batch of stops_start points by traj ID\n",
    "ids = stops_start['identifier'].unique()\n",
    "for i in ids:\n",
    "    fig = plt.figure()\n",
    "    # filtering trajectories by id and plotting them\n",
    "    filtered_trajs = geodata[geodata['identifier']==int(i)]\n",
    "    lat_traj = [p.y for p in filtered_trajs['geometry']]\n",
    "    lon_traj = [p.x for p in filtered_trajs['geometry']]\n",
    "\n",
    "    plt.scatter(lon_traj,lat_traj)\n",
    "    plt.plot(lon_traj,lat_traj)\n",
    "    \n",
    "    # filtering stop points by id and plotting them\n",
    "    filtered_stops = stops_start[stops_start['identifier']==i]\n",
    "    lat_stops = [p.y for p in filtered_stops['geometry']]\n",
    "    lon_stops = [p.x for p in filtered_stops['geometry']]\n",
    "    \n",
    "    plt.scatter(lon_stops,lat_stops)\n",
    "    plt.plot(lon_stops,lat_stops)\n",
    "    \n",
    "    plt.xlabel('Longitude')\n",
    "    plt.ylabel('Latitude')\n",
    "    title = i+'_'+transport_df.at[int(i),'Transportation Mode']\n",
    "    plt.title(title)\n",
    "    \n",
    "    plt.axis('off')\n",
    "    plt.savefig('traj_images/'+title+'.png')\n",
    "    \n",
    "    plt.close(fig)\n",
    "    \n",
    "    # getting info to calculate point density\n",
    "    num_stops = len(filtered_stops['length_m'])\n",
    "    dist = sum(filtered_stops['length_m'])\n",
    "    label = transport_df.at[int(i),'Transportation Mode']\n",
    "    info = [label,num_stops,dist,num_stops/dist]\n",
    "    point_density_table.append(info)\n",
    "    \n",
    "end = datetime.now()\n",
    "print('Tempo gasto gerando imagens:',end-start)"
   ]
  },
  {
   "cell_type": "code",
   "execution_count": 146,
   "id": "3bb04922",
   "metadata": {},
   "outputs": [
    {
     "data": {
      "application/vnd.plotly.v1+json": {
       "config": {
        "plotlyServerURL": "https://plot.ly"
       },
       "data": [
        {
         "dimensions": [
          {
           "axis": {
            "matches": true
           },
           "label": "Num Stops",
           "values": [
            37,
            22,
            23,
            51,
            281,
            50,
            12,
            51,
            72,
            91,
            165,
            18,
            31,
            17,
            16,
            13,
            33,
            153,
            198,
            50,
            84,
            14,
            14,
            23,
            54
           ]
          },
          {
           "axis": {
            "matches": true
           },
           "label": "Dist",
           "values": [
            13608.867438235708,
            9514.309656006577,
            8596.033472233285,
            21690.11830728415,
            140949.85702734784,
            22689.25494516167,
            5461.371425892587,
            22958.590978629138,
            37662.8011373705,
            45872.87218591147,
            83355.44103149386,
            11184.823642487925,
            17041.97218915768,
            8670.9519095773,
            7809.2140414896,
            6291.96585485653,
            16647.547406320366,
            77837.02161384452,
            103858.23837266727,
            28206.96756849748,
            46356.31012903792,
            6886.368491922233,
            6764.980785260507,
            12093.26148343139,
            27467.319564494268
           ]
          },
          {
           "axis": {
            "matches": true
           },
           "label": "Ratio",
           "values": [
            0.0027188155199487185,
            0.002312306493630986,
            0.002675652680308201,
            0.0023513011444881225,
            0.0019936167792314885,
            0.0022036862876655262,
            0.002197250299276022,
            0.0022213906788736745,
            0.0019117006124262698,
            0.001983743237859609,
            0.0019794748604072374,
            0.0016093235419129168,
            0.0018190382929812897,
            0.001960569056002149,
            0.002048861756764963,
            0.002066126914844236,
            0.001982273976734333,
            0.00196564561217469,
            0.001906444814609029,
            0.0017726116739979429,
            0.0018120510404339065,
            0.0020330018668652593,
            0.002069481118187815,
            0.0019018856105535798,
            0.0019659726852198313
           ]
          }
         ],
         "hovertemplate": "Label=train<br>%{xaxis.title.text}=%{x}<br>%{yaxis.title.text}=%{y}<extra></extra>",
         "legendgroup": "train",
         "marker": {
          "color": "#636efa",
          "symbol": "circle"
         },
         "name": "train",
         "showlegend": true,
         "type": "splom"
        },
        {
         "dimensions": [
          {
           "axis": {
            "matches": true
           },
           "label": "Num Stops",
           "values": [
            37,
            21,
            27,
            19,
            24,
            20,
            14,
            16,
            42,
            16,
            18,
            16,
            18,
            21,
            12,
            15,
            19,
            8,
            21,
            8,
            34,
            13
           ]
          },
          {
           "axis": {
            "matches": true
           },
           "label": "Dist",
           "values": [
            13192.292289950668,
            11691.800339888574,
            14079.799679637428,
            9763.04254568981,
            12575.49654064929,
            9983.829489076557,
            7930.8690766626805,
            7663.140697384862,
            22541.009311543803,
            8414.841301465085,
            9195.379612285682,
            7899.146314262976,
            8910.801211906637,
            10530.74113149086,
            6008.642178989773,
            8599.982135574166,
            8925.221923937925,
            4665.804068180949,
            10188.271333990531,
            4112.070365672045,
            18034.71565107561,
            7051.5749086210135
           ]
          },
          {
           "axis": {
            "matches": true
           },
           "label": "Ratio",
           "values": [
            0.0028046679975537716,
            0.0017961305692464583,
            0.001917640919213368,
            0.0019461146370183672,
            0.0019084733491375003,
            0.002003239340363562,
            0.0017652542066538838,
            0.002087916773531274,
            0.001863270602461034,
            0.0019014024658093414,
            0.001957504829485312,
            0.002025535338054169,
            0.0020200203743686203,
            0.0019941616395072266,
            0.001997123416994278,
            0.0017441896696449993,
            0.0021287986071294182,
            0.0017146026457812555,
            0.0020611936325192807,
            0.0019454920000359821,
            0.0018852529010055228,
            0.0018435597959977205
           ]
          }
         ],
         "hovertemplate": "Label=taxi<br>%{xaxis.title.text}=%{x}<br>%{yaxis.title.text}=%{y}<extra></extra>",
         "legendgroup": "taxi",
         "marker": {
          "color": "#EF553B",
          "symbol": "circle"
         },
         "name": "taxi",
         "showlegend": true,
         "type": "splom"
        },
        {
         "dimensions": [
          {
           "axis": {
            "matches": true
           },
           "label": "Num Stops",
           "values": [
            16,
            3,
            59,
            56,
            45,
            10,
            123,
            18,
            22,
            17,
            37,
            39,
            34,
            59
           ]
          },
          {
           "axis": {
            "matches": true
           },
           "label": "Dist",
           "values": [
            8097.353817987962,
            1281.2031156435064,
            30209.714342351155,
            31205.40431342393,
            22737.781140860894,
            5473.154267188451,
            63971.21479163534,
            10417.094776872085,
            12261.118073226455,
            8956.105791231616,
            19718.916506091497,
            21651.159593616107,
            17476.72547188859,
            30546.79831096088
           ]
          },
          {
           "axis": {
            "matches": true
           },
           "label": "Ratio",
           "values": [
            0.0019759541647367085,
            0.0023415490981640317,
            0.0019530141639667077,
            0.0017945609496849218,
            0.0019790849301092456,
            0.0018270999704777153,
            0.0019227397885225568,
            0.0017279289845728767,
            0.0017942898737790887,
            0.0018981464038358813,
            0.0018763708436297752,
            0.0018012892026115423,
            0.0019454445316251716,
            0.0019314626495186395
           ]
          }
         ],
         "hovertemplate": "Label=walk<br>%{xaxis.title.text}=%{x}<br>%{yaxis.title.text}=%{y}<extra></extra>",
         "legendgroup": "walk",
         "marker": {
          "color": "#00cc96",
          "symbol": "circle"
         },
         "name": "walk",
         "showlegend": true,
         "type": "splom"
        },
        {
         "dimensions": [
          {
           "axis": {
            "matches": true
           },
           "label": "Num Stops",
           "values": [
            26,
            21,
            37,
            20,
            22,
            11,
            15
           ]
          },
          {
           "axis": {
            "matches": true
           },
           "label": "Dist",
           "values": [
            13283.41226145212,
            11084.687021274898,
            19424.42631485581,
            10353.817133219249,
            11425.392089319434,
            5707.078343559041,
            8167.354948023815
           ]
          },
          {
           "axis": {
            "matches": true
           },
           "label": "Ratio",
           "values": [
            0.001957328394862129,
            0.0018945054524042574,
            0.0019048181604057147,
            0.0019316547455558086,
            0.00192553566897418,
            0.001927431049271385,
            0.0018365799081169383
           ]
          }
         ],
         "hovertemplate": "Label=bus<br>%{xaxis.title.text}=%{x}<br>%{yaxis.title.text}=%{y}<extra></extra>",
         "legendgroup": "bus",
         "marker": {
          "color": "#ab63fa",
          "symbol": "circle"
         },
         "name": "bus",
         "showlegend": true,
         "type": "splom"
        },
        {
         "dimensions": [
          {
           "axis": {
            "matches": true
           },
           "label": "Num Stops",
           "values": [
            21,
            21,
            23,
            31,
            20,
            32,
            21,
            31,
            30,
            20,
            34,
            9,
            36,
            55
           ]
          },
          {
           "axis": {
            "matches": true
           },
           "label": "Dist",
           "values": [
            10568.085095740165,
            11327.407724236724,
            12418.724157271243,
            16856.700923821405,
            9898.222490892862,
            16861.4930581111,
            10806.727829931364,
            16206.07401366055,
            15895.554714527865,
            10804.223535530438,
            17648.21259678266,
            4571.785335210914,
            20257.530314344665,
            28471.51940496489
           ]
          },
          {
           "axis": {
            "matches": true
           },
           "label": "Ratio",
           "values": [
            0.001987114960728768,
            0.001853910489605427,
            0.001852042102612719,
            0.0018390312635962883,
            0.0020205648052871675,
            0.0018978153292662674,
            0.0019432339122890056,
            0.001912863039738634,
            0.0018873201054494353,
            0.0018511279347589037,
            0.0019265407085020233,
            0.0019685963666500094,
            0.0017771169259713684,
            0.001931755001119085
           ]
          }
         ],
         "hovertemplate": "Label=subway<br>%{xaxis.title.text}=%{x}<br>%{yaxis.title.text}=%{y}<extra></extra>",
         "legendgroup": "subway",
         "marker": {
          "color": "#FFA15A",
          "symbol": "circle"
         },
         "name": "subway",
         "showlegend": true,
         "type": "splom"
        },
        {
         "dimensions": [
          {
           "axis": {
            "matches": true
           },
           "label": "Num Stops",
           "values": [
            35
           ]
          },
          {
           "axis": {
            "matches": true
           },
           "label": "Dist",
           "values": [
            19280.854907356963
           ]
          },
          {
           "axis": {
            "matches": true
           },
           "label": "Ratio",
           "values": [
            0.001815272204898192
           ]
          }
         ],
         "hovertemplate": "Label=car<br>%{xaxis.title.text}=%{x}<br>%{yaxis.title.text}=%{y}<extra></extra>",
         "legendgroup": "car",
         "marker": {
          "color": "#19d3f3",
          "symbol": "circle"
         },
         "name": "car",
         "showlegend": true,
         "type": "splom"
        }
       ],
       "layout": {
        "dragmode": "select",
        "legend": {
         "title": {
          "text": "Label"
         },
         "tracegroupgap": 0
        },
        "margin": {
         "t": 60
        },
        "template": {
         "data": {
          "bar": [
           {
            "error_x": {
             "color": "#2a3f5f"
            },
            "error_y": {
             "color": "#2a3f5f"
            },
            "marker": {
             "line": {
              "color": "#E5ECF6",
              "width": 0.5
             },
             "pattern": {
              "fillmode": "overlay",
              "size": 10,
              "solidity": 0.2
             }
            },
            "type": "bar"
           }
          ],
          "barpolar": [
           {
            "marker": {
             "line": {
              "color": "#E5ECF6",
              "width": 0.5
             },
             "pattern": {
              "fillmode": "overlay",
              "size": 10,
              "solidity": 0.2
             }
            },
            "type": "barpolar"
           }
          ],
          "carpet": [
           {
            "aaxis": {
             "endlinecolor": "#2a3f5f",
             "gridcolor": "white",
             "linecolor": "white",
             "minorgridcolor": "white",
             "startlinecolor": "#2a3f5f"
            },
            "baxis": {
             "endlinecolor": "#2a3f5f",
             "gridcolor": "white",
             "linecolor": "white",
             "minorgridcolor": "white",
             "startlinecolor": "#2a3f5f"
            },
            "type": "carpet"
           }
          ],
          "choropleth": [
           {
            "colorbar": {
             "outlinewidth": 0,
             "ticks": ""
            },
            "type": "choropleth"
           }
          ],
          "contour": [
           {
            "colorbar": {
             "outlinewidth": 0,
             "ticks": ""
            },
            "colorscale": [
             [
              0,
              "#0d0887"
             ],
             [
              0.1111111111111111,
              "#46039f"
             ],
             [
              0.2222222222222222,
              "#7201a8"
             ],
             [
              0.3333333333333333,
              "#9c179e"
             ],
             [
              0.4444444444444444,
              "#bd3786"
             ],
             [
              0.5555555555555556,
              "#d8576b"
             ],
             [
              0.6666666666666666,
              "#ed7953"
             ],
             [
              0.7777777777777778,
              "#fb9f3a"
             ],
             [
              0.8888888888888888,
              "#fdca26"
             ],
             [
              1,
              "#f0f921"
             ]
            ],
            "type": "contour"
           }
          ],
          "contourcarpet": [
           {
            "colorbar": {
             "outlinewidth": 0,
             "ticks": ""
            },
            "type": "contourcarpet"
           }
          ],
          "heatmap": [
           {
            "colorbar": {
             "outlinewidth": 0,
             "ticks": ""
            },
            "colorscale": [
             [
              0,
              "#0d0887"
             ],
             [
              0.1111111111111111,
              "#46039f"
             ],
             [
              0.2222222222222222,
              "#7201a8"
             ],
             [
              0.3333333333333333,
              "#9c179e"
             ],
             [
              0.4444444444444444,
              "#bd3786"
             ],
             [
              0.5555555555555556,
              "#d8576b"
             ],
             [
              0.6666666666666666,
              "#ed7953"
             ],
             [
              0.7777777777777778,
              "#fb9f3a"
             ],
             [
              0.8888888888888888,
              "#fdca26"
             ],
             [
              1,
              "#f0f921"
             ]
            ],
            "type": "heatmap"
           }
          ],
          "heatmapgl": [
           {
            "colorbar": {
             "outlinewidth": 0,
             "ticks": ""
            },
            "colorscale": [
             [
              0,
              "#0d0887"
             ],
             [
              0.1111111111111111,
              "#46039f"
             ],
             [
              0.2222222222222222,
              "#7201a8"
             ],
             [
              0.3333333333333333,
              "#9c179e"
             ],
             [
              0.4444444444444444,
              "#bd3786"
             ],
             [
              0.5555555555555556,
              "#d8576b"
             ],
             [
              0.6666666666666666,
              "#ed7953"
             ],
             [
              0.7777777777777778,
              "#fb9f3a"
             ],
             [
              0.8888888888888888,
              "#fdca26"
             ],
             [
              1,
              "#f0f921"
             ]
            ],
            "type": "heatmapgl"
           }
          ],
          "histogram": [
           {
            "marker": {
             "pattern": {
              "fillmode": "overlay",
              "size": 10,
              "solidity": 0.2
             }
            },
            "type": "histogram"
           }
          ],
          "histogram2d": [
           {
            "colorbar": {
             "outlinewidth": 0,
             "ticks": ""
            },
            "colorscale": [
             [
              0,
              "#0d0887"
             ],
             [
              0.1111111111111111,
              "#46039f"
             ],
             [
              0.2222222222222222,
              "#7201a8"
             ],
             [
              0.3333333333333333,
              "#9c179e"
             ],
             [
              0.4444444444444444,
              "#bd3786"
             ],
             [
              0.5555555555555556,
              "#d8576b"
             ],
             [
              0.6666666666666666,
              "#ed7953"
             ],
             [
              0.7777777777777778,
              "#fb9f3a"
             ],
             [
              0.8888888888888888,
              "#fdca26"
             ],
             [
              1,
              "#f0f921"
             ]
            ],
            "type": "histogram2d"
           }
          ],
          "histogram2dcontour": [
           {
            "colorbar": {
             "outlinewidth": 0,
             "ticks": ""
            },
            "colorscale": [
             [
              0,
              "#0d0887"
             ],
             [
              0.1111111111111111,
              "#46039f"
             ],
             [
              0.2222222222222222,
              "#7201a8"
             ],
             [
              0.3333333333333333,
              "#9c179e"
             ],
             [
              0.4444444444444444,
              "#bd3786"
             ],
             [
              0.5555555555555556,
              "#d8576b"
             ],
             [
              0.6666666666666666,
              "#ed7953"
             ],
             [
              0.7777777777777778,
              "#fb9f3a"
             ],
             [
              0.8888888888888888,
              "#fdca26"
             ],
             [
              1,
              "#f0f921"
             ]
            ],
            "type": "histogram2dcontour"
           }
          ],
          "mesh3d": [
           {
            "colorbar": {
             "outlinewidth": 0,
             "ticks": ""
            },
            "type": "mesh3d"
           }
          ],
          "parcoords": [
           {
            "line": {
             "colorbar": {
              "outlinewidth": 0,
              "ticks": ""
             }
            },
            "type": "parcoords"
           }
          ],
          "pie": [
           {
            "automargin": true,
            "type": "pie"
           }
          ],
          "scatter": [
           {
            "fillpattern": {
             "fillmode": "overlay",
             "size": 10,
             "solidity": 0.2
            },
            "type": "scatter"
           }
          ],
          "scatter3d": [
           {
            "line": {
             "colorbar": {
              "outlinewidth": 0,
              "ticks": ""
             }
            },
            "marker": {
             "colorbar": {
              "outlinewidth": 0,
              "ticks": ""
             }
            },
            "type": "scatter3d"
           }
          ],
          "scattercarpet": [
           {
            "marker": {
             "colorbar": {
              "outlinewidth": 0,
              "ticks": ""
             }
            },
            "type": "scattercarpet"
           }
          ],
          "scattergeo": [
           {
            "marker": {
             "colorbar": {
              "outlinewidth": 0,
              "ticks": ""
             }
            },
            "type": "scattergeo"
           }
          ],
          "scattergl": [
           {
            "marker": {
             "colorbar": {
              "outlinewidth": 0,
              "ticks": ""
             }
            },
            "type": "scattergl"
           }
          ],
          "scattermapbox": [
           {
            "marker": {
             "colorbar": {
              "outlinewidth": 0,
              "ticks": ""
             }
            },
            "type": "scattermapbox"
           }
          ],
          "scatterpolar": [
           {
            "marker": {
             "colorbar": {
              "outlinewidth": 0,
              "ticks": ""
             }
            },
            "type": "scatterpolar"
           }
          ],
          "scatterpolargl": [
           {
            "marker": {
             "colorbar": {
              "outlinewidth": 0,
              "ticks": ""
             }
            },
            "type": "scatterpolargl"
           }
          ],
          "scatterternary": [
           {
            "marker": {
             "colorbar": {
              "outlinewidth": 0,
              "ticks": ""
             }
            },
            "type": "scatterternary"
           }
          ],
          "surface": [
           {
            "colorbar": {
             "outlinewidth": 0,
             "ticks": ""
            },
            "colorscale": [
             [
              0,
              "#0d0887"
             ],
             [
              0.1111111111111111,
              "#46039f"
             ],
             [
              0.2222222222222222,
              "#7201a8"
             ],
             [
              0.3333333333333333,
              "#9c179e"
             ],
             [
              0.4444444444444444,
              "#bd3786"
             ],
             [
              0.5555555555555556,
              "#d8576b"
             ],
             [
              0.6666666666666666,
              "#ed7953"
             ],
             [
              0.7777777777777778,
              "#fb9f3a"
             ],
             [
              0.8888888888888888,
              "#fdca26"
             ],
             [
              1,
              "#f0f921"
             ]
            ],
            "type": "surface"
           }
          ],
          "table": [
           {
            "cells": {
             "fill": {
              "color": "#EBF0F8"
             },
             "line": {
              "color": "white"
             }
            },
            "header": {
             "fill": {
              "color": "#C8D4E3"
             },
             "line": {
              "color": "white"
             }
            },
            "type": "table"
           }
          ]
         },
         "layout": {
          "annotationdefaults": {
           "arrowcolor": "#2a3f5f",
           "arrowhead": 0,
           "arrowwidth": 1
          },
          "autotypenumbers": "strict",
          "coloraxis": {
           "colorbar": {
            "outlinewidth": 0,
            "ticks": ""
           }
          },
          "colorscale": {
           "diverging": [
            [
             0,
             "#8e0152"
            ],
            [
             0.1,
             "#c51b7d"
            ],
            [
             0.2,
             "#de77ae"
            ],
            [
             0.3,
             "#f1b6da"
            ],
            [
             0.4,
             "#fde0ef"
            ],
            [
             0.5,
             "#f7f7f7"
            ],
            [
             0.6,
             "#e6f5d0"
            ],
            [
             0.7,
             "#b8e186"
            ],
            [
             0.8,
             "#7fbc41"
            ],
            [
             0.9,
             "#4d9221"
            ],
            [
             1,
             "#276419"
            ]
           ],
           "sequential": [
            [
             0,
             "#0d0887"
            ],
            [
             0.1111111111111111,
             "#46039f"
            ],
            [
             0.2222222222222222,
             "#7201a8"
            ],
            [
             0.3333333333333333,
             "#9c179e"
            ],
            [
             0.4444444444444444,
             "#bd3786"
            ],
            [
             0.5555555555555556,
             "#d8576b"
            ],
            [
             0.6666666666666666,
             "#ed7953"
            ],
            [
             0.7777777777777778,
             "#fb9f3a"
            ],
            [
             0.8888888888888888,
             "#fdca26"
            ],
            [
             1,
             "#f0f921"
            ]
           ],
           "sequentialminus": [
            [
             0,
             "#0d0887"
            ],
            [
             0.1111111111111111,
             "#46039f"
            ],
            [
             0.2222222222222222,
             "#7201a8"
            ],
            [
             0.3333333333333333,
             "#9c179e"
            ],
            [
             0.4444444444444444,
             "#bd3786"
            ],
            [
             0.5555555555555556,
             "#d8576b"
            ],
            [
             0.6666666666666666,
             "#ed7953"
            ],
            [
             0.7777777777777778,
             "#fb9f3a"
            ],
            [
             0.8888888888888888,
             "#fdca26"
            ],
            [
             1,
             "#f0f921"
            ]
           ]
          },
          "colorway": [
           "#636efa",
           "#EF553B",
           "#00cc96",
           "#ab63fa",
           "#FFA15A",
           "#19d3f3",
           "#FF6692",
           "#B6E880",
           "#FF97FF",
           "#FECB52"
          ],
          "font": {
           "color": "#2a3f5f"
          },
          "geo": {
           "bgcolor": "white",
           "lakecolor": "white",
           "landcolor": "#E5ECF6",
           "showlakes": true,
           "showland": true,
           "subunitcolor": "white"
          },
          "hoverlabel": {
           "align": "left"
          },
          "hovermode": "closest",
          "mapbox": {
           "style": "light"
          },
          "paper_bgcolor": "white",
          "plot_bgcolor": "#E5ECF6",
          "polar": {
           "angularaxis": {
            "gridcolor": "white",
            "linecolor": "white",
            "ticks": ""
           },
           "bgcolor": "#E5ECF6",
           "radialaxis": {
            "gridcolor": "white",
            "linecolor": "white",
            "ticks": ""
           }
          },
          "scene": {
           "xaxis": {
            "backgroundcolor": "#E5ECF6",
            "gridcolor": "white",
            "gridwidth": 2,
            "linecolor": "white",
            "showbackground": true,
            "ticks": "",
            "zerolinecolor": "white"
           },
           "yaxis": {
            "backgroundcolor": "#E5ECF6",
            "gridcolor": "white",
            "gridwidth": 2,
            "linecolor": "white",
            "showbackground": true,
            "ticks": "",
            "zerolinecolor": "white"
           },
           "zaxis": {
            "backgroundcolor": "#E5ECF6",
            "gridcolor": "white",
            "gridwidth": 2,
            "linecolor": "white",
            "showbackground": true,
            "ticks": "",
            "zerolinecolor": "white"
           }
          },
          "shapedefaults": {
           "line": {
            "color": "#2a3f5f"
           }
          },
          "ternary": {
           "aaxis": {
            "gridcolor": "white",
            "linecolor": "white",
            "ticks": ""
           },
           "baxis": {
            "gridcolor": "white",
            "linecolor": "white",
            "ticks": ""
           },
           "bgcolor": "#E5ECF6",
           "caxis": {
            "gridcolor": "white",
            "linecolor": "white",
            "ticks": ""
           }
          },
          "title": {
           "x": 0.05
          },
          "xaxis": {
           "automargin": true,
           "gridcolor": "white",
           "linecolor": "white",
           "ticks": "",
           "title": {
            "standoff": 15
           },
           "zerolinecolor": "white",
           "zerolinewidth": 2
          },
          "yaxis": {
           "automargin": true,
           "gridcolor": "white",
           "linecolor": "white",
           "ticks": "",
           "title": {
            "standoff": 15
           },
           "zerolinecolor": "white",
           "zerolinewidth": 2
          }
         }
        }
       }
      },
      "text/html": [
       "<div>                            <div id=\"e49b9a8d-d61f-41cd-9d63-cb148061ba47\" class=\"plotly-graph-div\" style=\"height:525px; width:100%;\"></div>            <script type=\"text/javascript\">                require([\"plotly\"], function(Plotly) {                    window.PLOTLYENV=window.PLOTLYENV || {};                                    if (document.getElementById(\"e49b9a8d-d61f-41cd-9d63-cb148061ba47\")) {                    Plotly.newPlot(                        \"e49b9a8d-d61f-41cd-9d63-cb148061ba47\",                        [{\"dimensions\":[{\"axis\":{\"matches\":true},\"label\":\"Num Stops\",\"values\":[37,22,23,51,281,50,12,51,72,91,165,18,31,17,16,13,33,153,198,50,84,14,14,23,54]},{\"axis\":{\"matches\":true},\"label\":\"Dist\",\"values\":[13608.867438235708,9514.309656006577,8596.033472233285,21690.11830728415,140949.85702734784,22689.25494516167,5461.371425892587,22958.590978629138,37662.8011373705,45872.87218591147,83355.44103149386,11184.823642487925,17041.97218915768,8670.9519095773,7809.2140414896,6291.96585485653,16647.547406320366,77837.02161384452,103858.23837266727,28206.96756849748,46356.31012903792,6886.368491922233,6764.980785260507,12093.26148343139,27467.319564494268]},{\"axis\":{\"matches\":true},\"label\":\"Ratio\",\"values\":[0.0027188155199487185,0.002312306493630986,0.002675652680308201,0.0023513011444881225,0.0019936167792314885,0.0022036862876655262,0.002197250299276022,0.0022213906788736745,0.0019117006124262698,0.001983743237859609,0.0019794748604072374,0.0016093235419129168,0.0018190382929812897,0.001960569056002149,0.002048861756764963,0.002066126914844236,0.001982273976734333,0.00196564561217469,0.001906444814609029,0.0017726116739979429,0.0018120510404339065,0.0020330018668652593,0.002069481118187815,0.0019018856105535798,0.0019659726852198313]}],\"hovertemplate\":\"Label=train<br>%{xaxis.title.text}=%{x}<br>%{yaxis.title.text}=%{y}<extra></extra>\",\"legendgroup\":\"train\",\"marker\":{\"color\":\"#636efa\",\"symbol\":\"circle\"},\"name\":\"train\",\"showlegend\":true,\"type\":\"splom\"},{\"dimensions\":[{\"axis\":{\"matches\":true},\"label\":\"Num Stops\",\"values\":[37,21,27,19,24,20,14,16,42,16,18,16,18,21,12,15,19,8,21,8,34,13]},{\"axis\":{\"matches\":true},\"label\":\"Dist\",\"values\":[13192.292289950668,11691.800339888574,14079.799679637428,9763.04254568981,12575.49654064929,9983.829489076557,7930.8690766626805,7663.140697384862,22541.009311543803,8414.841301465085,9195.379612285682,7899.146314262976,8910.801211906637,10530.74113149086,6008.642178989773,8599.982135574166,8925.221923937925,4665.804068180949,10188.271333990531,4112.070365672045,18034.71565107561,7051.5749086210135]},{\"axis\":{\"matches\":true},\"label\":\"Ratio\",\"values\":[0.0028046679975537716,0.0017961305692464583,0.001917640919213368,0.0019461146370183672,0.0019084733491375003,0.002003239340363562,0.0017652542066538838,0.002087916773531274,0.001863270602461034,0.0019014024658093414,0.001957504829485312,0.002025535338054169,0.0020200203743686203,0.0019941616395072266,0.001997123416994278,0.0017441896696449993,0.0021287986071294182,0.0017146026457812555,0.0020611936325192807,0.0019454920000359821,0.0018852529010055228,0.0018435597959977205]}],\"hovertemplate\":\"Label=taxi<br>%{xaxis.title.text}=%{x}<br>%{yaxis.title.text}=%{y}<extra></extra>\",\"legendgroup\":\"taxi\",\"marker\":{\"color\":\"#EF553B\",\"symbol\":\"circle\"},\"name\":\"taxi\",\"showlegend\":true,\"type\":\"splom\"},{\"dimensions\":[{\"axis\":{\"matches\":true},\"label\":\"Num Stops\",\"values\":[16,3,59,56,45,10,123,18,22,17,37,39,34,59]},{\"axis\":{\"matches\":true},\"label\":\"Dist\",\"values\":[8097.353817987962,1281.2031156435064,30209.714342351155,31205.40431342393,22737.781140860894,5473.154267188451,63971.21479163534,10417.094776872085,12261.118073226455,8956.105791231616,19718.916506091497,21651.159593616107,17476.72547188859,30546.79831096088]},{\"axis\":{\"matches\":true},\"label\":\"Ratio\",\"values\":[0.0019759541647367085,0.0023415490981640317,0.0019530141639667077,0.0017945609496849218,0.0019790849301092456,0.0018270999704777153,0.0019227397885225568,0.0017279289845728767,0.0017942898737790887,0.0018981464038358813,0.0018763708436297752,0.0018012892026115423,0.0019454445316251716,0.0019314626495186395]}],\"hovertemplate\":\"Label=walk<br>%{xaxis.title.text}=%{x}<br>%{yaxis.title.text}=%{y}<extra></extra>\",\"legendgroup\":\"walk\",\"marker\":{\"color\":\"#00cc96\",\"symbol\":\"circle\"},\"name\":\"walk\",\"showlegend\":true,\"type\":\"splom\"},{\"dimensions\":[{\"axis\":{\"matches\":true},\"label\":\"Num Stops\",\"values\":[26,21,37,20,22,11,15]},{\"axis\":{\"matches\":true},\"label\":\"Dist\",\"values\":[13283.41226145212,11084.687021274898,19424.42631485581,10353.817133219249,11425.392089319434,5707.078343559041,8167.354948023815]},{\"axis\":{\"matches\":true},\"label\":\"Ratio\",\"values\":[0.001957328394862129,0.0018945054524042574,0.0019048181604057147,0.0019316547455558086,0.00192553566897418,0.001927431049271385,0.0018365799081169383]}],\"hovertemplate\":\"Label=bus<br>%{xaxis.title.text}=%{x}<br>%{yaxis.title.text}=%{y}<extra></extra>\",\"legendgroup\":\"bus\",\"marker\":{\"color\":\"#ab63fa\",\"symbol\":\"circle\"},\"name\":\"bus\",\"showlegend\":true,\"type\":\"splom\"},{\"dimensions\":[{\"axis\":{\"matches\":true},\"label\":\"Num Stops\",\"values\":[21,21,23,31,20,32,21,31,30,20,34,9,36,55]},{\"axis\":{\"matches\":true},\"label\":\"Dist\",\"values\":[10568.085095740165,11327.407724236724,12418.724157271243,16856.700923821405,9898.222490892862,16861.4930581111,10806.727829931364,16206.07401366055,15895.554714527865,10804.223535530438,17648.21259678266,4571.785335210914,20257.530314344665,28471.51940496489]},{\"axis\":{\"matches\":true},\"label\":\"Ratio\",\"values\":[0.001987114960728768,0.001853910489605427,0.001852042102612719,0.0018390312635962883,0.0020205648052871675,0.0018978153292662674,0.0019432339122890056,0.001912863039738634,0.0018873201054494353,0.0018511279347589037,0.0019265407085020233,0.0019685963666500094,0.0017771169259713684,0.001931755001119085]}],\"hovertemplate\":\"Label=subway<br>%{xaxis.title.text}=%{x}<br>%{yaxis.title.text}=%{y}<extra></extra>\",\"legendgroup\":\"subway\",\"marker\":{\"color\":\"#FFA15A\",\"symbol\":\"circle\"},\"name\":\"subway\",\"showlegend\":true,\"type\":\"splom\"},{\"dimensions\":[{\"axis\":{\"matches\":true},\"label\":\"Num Stops\",\"values\":[35]},{\"axis\":{\"matches\":true},\"label\":\"Dist\",\"values\":[19280.854907356963]},{\"axis\":{\"matches\":true},\"label\":\"Ratio\",\"values\":[0.001815272204898192]}],\"hovertemplate\":\"Label=car<br>%{xaxis.title.text}=%{x}<br>%{yaxis.title.text}=%{y}<extra></extra>\",\"legendgroup\":\"car\",\"marker\":{\"color\":\"#19d3f3\",\"symbol\":\"circle\"},\"name\":\"car\",\"showlegend\":true,\"type\":\"splom\"}],                        {\"template\":{\"data\":{\"histogram2dcontour\":[{\"type\":\"histogram2dcontour\",\"colorbar\":{\"outlinewidth\":0,\"ticks\":\"\"},\"colorscale\":[[0.0,\"#0d0887\"],[0.1111111111111111,\"#46039f\"],[0.2222222222222222,\"#7201a8\"],[0.3333333333333333,\"#9c179e\"],[0.4444444444444444,\"#bd3786\"],[0.5555555555555556,\"#d8576b\"],[0.6666666666666666,\"#ed7953\"],[0.7777777777777778,\"#fb9f3a\"],[0.8888888888888888,\"#fdca26\"],[1.0,\"#f0f921\"]]}],\"choropleth\":[{\"type\":\"choropleth\",\"colorbar\":{\"outlinewidth\":0,\"ticks\":\"\"}}],\"histogram2d\":[{\"type\":\"histogram2d\",\"colorbar\":{\"outlinewidth\":0,\"ticks\":\"\"},\"colorscale\":[[0.0,\"#0d0887\"],[0.1111111111111111,\"#46039f\"],[0.2222222222222222,\"#7201a8\"],[0.3333333333333333,\"#9c179e\"],[0.4444444444444444,\"#bd3786\"],[0.5555555555555556,\"#d8576b\"],[0.6666666666666666,\"#ed7953\"],[0.7777777777777778,\"#fb9f3a\"],[0.8888888888888888,\"#fdca26\"],[1.0,\"#f0f921\"]]}],\"heatmap\":[{\"type\":\"heatmap\",\"colorbar\":{\"outlinewidth\":0,\"ticks\":\"\"},\"colorscale\":[[0.0,\"#0d0887\"],[0.1111111111111111,\"#46039f\"],[0.2222222222222222,\"#7201a8\"],[0.3333333333333333,\"#9c179e\"],[0.4444444444444444,\"#bd3786\"],[0.5555555555555556,\"#d8576b\"],[0.6666666666666666,\"#ed7953\"],[0.7777777777777778,\"#fb9f3a\"],[0.8888888888888888,\"#fdca26\"],[1.0,\"#f0f921\"]]}],\"heatmapgl\":[{\"type\":\"heatmapgl\",\"colorbar\":{\"outlinewidth\":0,\"ticks\":\"\"},\"colorscale\":[[0.0,\"#0d0887\"],[0.1111111111111111,\"#46039f\"],[0.2222222222222222,\"#7201a8\"],[0.3333333333333333,\"#9c179e\"],[0.4444444444444444,\"#bd3786\"],[0.5555555555555556,\"#d8576b\"],[0.6666666666666666,\"#ed7953\"],[0.7777777777777778,\"#fb9f3a\"],[0.8888888888888888,\"#fdca26\"],[1.0,\"#f0f921\"]]}],\"contourcarpet\":[{\"type\":\"contourcarpet\",\"colorbar\":{\"outlinewidth\":0,\"ticks\":\"\"}}],\"contour\":[{\"type\":\"contour\",\"colorbar\":{\"outlinewidth\":0,\"ticks\":\"\"},\"colorscale\":[[0.0,\"#0d0887\"],[0.1111111111111111,\"#46039f\"],[0.2222222222222222,\"#7201a8\"],[0.3333333333333333,\"#9c179e\"],[0.4444444444444444,\"#bd3786\"],[0.5555555555555556,\"#d8576b\"],[0.6666666666666666,\"#ed7953\"],[0.7777777777777778,\"#fb9f3a\"],[0.8888888888888888,\"#fdca26\"],[1.0,\"#f0f921\"]]}],\"surface\":[{\"type\":\"surface\",\"colorbar\":{\"outlinewidth\":0,\"ticks\":\"\"},\"colorscale\":[[0.0,\"#0d0887\"],[0.1111111111111111,\"#46039f\"],[0.2222222222222222,\"#7201a8\"],[0.3333333333333333,\"#9c179e\"],[0.4444444444444444,\"#bd3786\"],[0.5555555555555556,\"#d8576b\"],[0.6666666666666666,\"#ed7953\"],[0.7777777777777778,\"#fb9f3a\"],[0.8888888888888888,\"#fdca26\"],[1.0,\"#f0f921\"]]}],\"mesh3d\":[{\"type\":\"mesh3d\",\"colorbar\":{\"outlinewidth\":0,\"ticks\":\"\"}}],\"scatter\":[{\"fillpattern\":{\"fillmode\":\"overlay\",\"size\":10,\"solidity\":0.2},\"type\":\"scatter\"}],\"parcoords\":[{\"type\":\"parcoords\",\"line\":{\"colorbar\":{\"outlinewidth\":0,\"ticks\":\"\"}}}],\"scatterpolargl\":[{\"type\":\"scatterpolargl\",\"marker\":{\"colorbar\":{\"outlinewidth\":0,\"ticks\":\"\"}}}],\"bar\":[{\"error_x\":{\"color\":\"#2a3f5f\"},\"error_y\":{\"color\":\"#2a3f5f\"},\"marker\":{\"line\":{\"color\":\"#E5ECF6\",\"width\":0.5},\"pattern\":{\"fillmode\":\"overlay\",\"size\":10,\"solidity\":0.2}},\"type\":\"bar\"}],\"scattergeo\":[{\"type\":\"scattergeo\",\"marker\":{\"colorbar\":{\"outlinewidth\":0,\"ticks\":\"\"}}}],\"scatterpolar\":[{\"type\":\"scatterpolar\",\"marker\":{\"colorbar\":{\"outlinewidth\":0,\"ticks\":\"\"}}}],\"histogram\":[{\"marker\":{\"pattern\":{\"fillmode\":\"overlay\",\"size\":10,\"solidity\":0.2}},\"type\":\"histogram\"}],\"scattergl\":[{\"type\":\"scattergl\",\"marker\":{\"colorbar\":{\"outlinewidth\":0,\"ticks\":\"\"}}}],\"scatter3d\":[{\"type\":\"scatter3d\",\"line\":{\"colorbar\":{\"outlinewidth\":0,\"ticks\":\"\"}},\"marker\":{\"colorbar\":{\"outlinewidth\":0,\"ticks\":\"\"}}}],\"scattermapbox\":[{\"type\":\"scattermapbox\",\"marker\":{\"colorbar\":{\"outlinewidth\":0,\"ticks\":\"\"}}}],\"scatterternary\":[{\"type\":\"scatterternary\",\"marker\":{\"colorbar\":{\"outlinewidth\":0,\"ticks\":\"\"}}}],\"scattercarpet\":[{\"type\":\"scattercarpet\",\"marker\":{\"colorbar\":{\"outlinewidth\":0,\"ticks\":\"\"}}}],\"carpet\":[{\"aaxis\":{\"endlinecolor\":\"#2a3f5f\",\"gridcolor\":\"white\",\"linecolor\":\"white\",\"minorgridcolor\":\"white\",\"startlinecolor\":\"#2a3f5f\"},\"baxis\":{\"endlinecolor\":\"#2a3f5f\",\"gridcolor\":\"white\",\"linecolor\":\"white\",\"minorgridcolor\":\"white\",\"startlinecolor\":\"#2a3f5f\"},\"type\":\"carpet\"}],\"table\":[{\"cells\":{\"fill\":{\"color\":\"#EBF0F8\"},\"line\":{\"color\":\"white\"}},\"header\":{\"fill\":{\"color\":\"#C8D4E3\"},\"line\":{\"color\":\"white\"}},\"type\":\"table\"}],\"barpolar\":[{\"marker\":{\"line\":{\"color\":\"#E5ECF6\",\"width\":0.5},\"pattern\":{\"fillmode\":\"overlay\",\"size\":10,\"solidity\":0.2}},\"type\":\"barpolar\"}],\"pie\":[{\"automargin\":true,\"type\":\"pie\"}]},\"layout\":{\"autotypenumbers\":\"strict\",\"colorway\":[\"#636efa\",\"#EF553B\",\"#00cc96\",\"#ab63fa\",\"#FFA15A\",\"#19d3f3\",\"#FF6692\",\"#B6E880\",\"#FF97FF\",\"#FECB52\"],\"font\":{\"color\":\"#2a3f5f\"},\"hovermode\":\"closest\",\"hoverlabel\":{\"align\":\"left\"},\"paper_bgcolor\":\"white\",\"plot_bgcolor\":\"#E5ECF6\",\"polar\":{\"bgcolor\":\"#E5ECF6\",\"angularaxis\":{\"gridcolor\":\"white\",\"linecolor\":\"white\",\"ticks\":\"\"},\"radialaxis\":{\"gridcolor\":\"white\",\"linecolor\":\"white\",\"ticks\":\"\"}},\"ternary\":{\"bgcolor\":\"#E5ECF6\",\"aaxis\":{\"gridcolor\":\"white\",\"linecolor\":\"white\",\"ticks\":\"\"},\"baxis\":{\"gridcolor\":\"white\",\"linecolor\":\"white\",\"ticks\":\"\"},\"caxis\":{\"gridcolor\":\"white\",\"linecolor\":\"white\",\"ticks\":\"\"}},\"coloraxis\":{\"colorbar\":{\"outlinewidth\":0,\"ticks\":\"\"}},\"colorscale\":{\"sequential\":[[0.0,\"#0d0887\"],[0.1111111111111111,\"#46039f\"],[0.2222222222222222,\"#7201a8\"],[0.3333333333333333,\"#9c179e\"],[0.4444444444444444,\"#bd3786\"],[0.5555555555555556,\"#d8576b\"],[0.6666666666666666,\"#ed7953\"],[0.7777777777777778,\"#fb9f3a\"],[0.8888888888888888,\"#fdca26\"],[1.0,\"#f0f921\"]],\"sequentialminus\":[[0.0,\"#0d0887\"],[0.1111111111111111,\"#46039f\"],[0.2222222222222222,\"#7201a8\"],[0.3333333333333333,\"#9c179e\"],[0.4444444444444444,\"#bd3786\"],[0.5555555555555556,\"#d8576b\"],[0.6666666666666666,\"#ed7953\"],[0.7777777777777778,\"#fb9f3a\"],[0.8888888888888888,\"#fdca26\"],[1.0,\"#f0f921\"]],\"diverging\":[[0,\"#8e0152\"],[0.1,\"#c51b7d\"],[0.2,\"#de77ae\"],[0.3,\"#f1b6da\"],[0.4,\"#fde0ef\"],[0.5,\"#f7f7f7\"],[0.6,\"#e6f5d0\"],[0.7,\"#b8e186\"],[0.8,\"#7fbc41\"],[0.9,\"#4d9221\"],[1,\"#276419\"]]},\"xaxis\":{\"gridcolor\":\"white\",\"linecolor\":\"white\",\"ticks\":\"\",\"title\":{\"standoff\":15},\"zerolinecolor\":\"white\",\"automargin\":true,\"zerolinewidth\":2},\"yaxis\":{\"gridcolor\":\"white\",\"linecolor\":\"white\",\"ticks\":\"\",\"title\":{\"standoff\":15},\"zerolinecolor\":\"white\",\"automargin\":true,\"zerolinewidth\":2},\"scene\":{\"xaxis\":{\"backgroundcolor\":\"#E5ECF6\",\"gridcolor\":\"white\",\"linecolor\":\"white\",\"showbackground\":true,\"ticks\":\"\",\"zerolinecolor\":\"white\",\"gridwidth\":2},\"yaxis\":{\"backgroundcolor\":\"#E5ECF6\",\"gridcolor\":\"white\",\"linecolor\":\"white\",\"showbackground\":true,\"ticks\":\"\",\"zerolinecolor\":\"white\",\"gridwidth\":2},\"zaxis\":{\"backgroundcolor\":\"#E5ECF6\",\"gridcolor\":\"white\",\"linecolor\":\"white\",\"showbackground\":true,\"ticks\":\"\",\"zerolinecolor\":\"white\",\"gridwidth\":2}},\"shapedefaults\":{\"line\":{\"color\":\"#2a3f5f\"}},\"annotationdefaults\":{\"arrowcolor\":\"#2a3f5f\",\"arrowhead\":0,\"arrowwidth\":1},\"geo\":{\"bgcolor\":\"white\",\"landcolor\":\"#E5ECF6\",\"subunitcolor\":\"white\",\"showland\":true,\"showlakes\":true,\"lakecolor\":\"white\"},\"title\":{\"x\":0.05},\"mapbox\":{\"style\":\"light\"}}},\"legend\":{\"title\":{\"text\":\"Label\"},\"tracegroupgap\":0},\"margin\":{\"t\":60},\"dragmode\":\"select\"},                        {\"responsive\": true}                    ).then(function(){\n",
       "                            \n",
       "var gd = document.getElementById('e49b9a8d-d61f-41cd-9d63-cb148061ba47');\n",
       "var x = new MutationObserver(function (mutations, observer) {{\n",
       "        var display = window.getComputedStyle(gd).display;\n",
       "        if (!display || display === 'none') {{\n",
       "            console.log([gd, 'removed!']);\n",
       "            Plotly.purge(gd);\n",
       "            observer.disconnect();\n",
       "        }}\n",
       "}});\n",
       "\n",
       "// Listen for the removal of the full notebook cells\n",
       "var notebookContainer = gd.closest('#notebook-container');\n",
       "if (notebookContainer) {{\n",
       "    x.observe(notebookContainer, {childList: true});\n",
       "}}\n",
       "\n",
       "// Listen for the clearing of the current output cell\n",
       "var outputEl = gd.closest('.output');\n",
       "if (outputEl) {{\n",
       "    x.observe(outputEl, {childList: true});\n",
       "}}\n",
       "\n",
       "                        })                };                });            </script>        </div>"
      ]
     },
     "metadata": {},
     "output_type": "display_data"
    }
   ],
   "source": [
    "'''\n",
    "Don't forget about the distribution of labels, because it is probably unbalanced\n",
    "Maybe there is a relationship between the distance covered and the number of stop points? Like density?\n",
    "Because a faster mode will have a ratio of distance/stops smaller than a slower mode?\n",
    "'''\n",
    "\n",
    "import plotly.express as px\n",
    "\n",
    "fig = px.scatter_matrix(point_density_table,\n",
    "    dimensions=[\"Num Stops\", \"Dist\", \"Ratio\"],\n",
    "    color=\"Label\")\n",
    "fig.show()"
   ]
  },
  {
   "cell_type": "code",
   "execution_count": 74,
   "id": "c8c890f2",
   "metadata": {},
   "outputs": [],
   "source": [
    "# import matplotlib.pyplot as plt\n",
    "\n",
    "# def draw_motif(transport_df,gps_points_df):\n",
    "#     ids = gps_points_df['identifier'].unique()\n",
    "#     for i in ids[:5]:\n",
    "#         single_mode_df = gps_points_df[gps_points_df['identifier']==i]\n",
    "#         plt.scatter(x=single_mode_df['lon'], y=single_mode_df['lat'])\n",
    "#         plt.xlabel('Longitude')\n",
    "#         plt.ylabel('Latitude')\n",
    "#         plt.title(transport_df.at[i,'Transportation Mode'])\n",
    "#         plt.show()\n",
    "        \n",
    "# draw_motif(transport_df,gps_points_df)\n",
    "\n",
    "#     stops = stops_start['geometry'].tolist()\n",
    "#     print('stops #######################\\n',stops)\n",
    "#     xs = [point.x for point in stops]\n",
    "#     ys = [point.y for point in stops]\n",
    "#     plt.scatter(xs, ys)\n",
    "#     plt.plot(xs, ys)\n",
    "#     plt.title('Transport Mode:'+transport_df.at[i,'Transportation Mode'])\n",
    "#     plt.show()"
   ]
  }
 ],
 "metadata": {
  "kernelspec": {
   "display_name": "Python 3 (ipykernel)",
   "language": "python",
   "name": "python3"
  },
  "language_info": {
   "codemirror_mode": {
    "name": "ipython",
    "version": 3
   },
   "file_extension": ".py",
   "mimetype": "text/x-python",
   "name": "python",
   "nbconvert_exporter": "python",
   "pygments_lexer": "ipython3",
   "version": "3.9.7"
  }
 },
 "nbformat": 4,
 "nbformat_minor": 5
}
