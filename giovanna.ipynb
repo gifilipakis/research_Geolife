{
 "cells": [
  {
   "cell_type": "code",
   "execution_count": 5,
   "id": "e0e3f4f2",
   "metadata": {},
   "outputs": [],
   "source": [
    "import math\n",
    "import pandas as pd\n",
    "\n",
    "def it_features(histogram, features, normalized = False):\n",
    "    \n",
    "    it = []\n",
    "    \n",
    "    if \"permutation_entropy\" in features:\n",
    "        pe = permutation_entropy(histogram, normalized)\n",
    "        it.append(pe)\n",
    "        \n",
    "    if \"statistical_complexity\" in features:\n",
    "        if \"permutation_entropy\" in features:\n",
    "            sc = statistical_complexity(histogram, entropy = pe)\n",
    "        else:\n",
    "            sc = statistical_complexity(histogram)\n",
    "            \n",
    "        it.append(sc)\n",
    "            \n",
    "    if \"fisher_information\" in features:\n",
    "        fi = fisher_information(histogram)\n",
    "        it.append(fi)\n",
    "\n",
    "    return it\n",
    "\n",
    "\n",
    "\n",
    "def permutation_entropy(dist, normalized = False):\n",
    "\n",
    "    pe = 0\n",
    "\n",
    "    for p in dist:    \n",
    "        if p > 1e-30:        \n",
    "            pe -= (p*math.log(p))\n",
    "\n",
    "    if (normalized == True):\n",
    "        pe = pe/math.log(len(dist))\n",
    "\n",
    "    return pe\n",
    "\n",
    "\n",
    "def statistical_complexity(dist, entropy = None):\n",
    "\n",
    "    if entropy is None:\n",
    "        entropy = permutation_entropy(dist, normalized = False)\n",
    "\n",
    "    # the length of the probabilities, \n",
    "    n = len(dist)\n",
    "\n",
    "    # the reference distribution (uniform)\n",
    "    P_u = [1/n]*n\n",
    "\n",
    "    # the Jensen-shannon divergence\n",
    "    pe_pu = permutation_entropy(P_u)/2\n",
    "    pe_op = permutation_entropy(dist)/2\n",
    "\n",
    "    p1 = [(x + y)/2 for x, y in zip(dist, P_u)]\n",
    "    pe_op_pu = permutation_entropy(p1)\n",
    "\n",
    "    JS = pe_op_pu - pe_op - pe_pu\n",
    "\n",
    "    # the statistical complexity\n",
    "    # math.log is ln\n",
    "    p2 = (((n+1)/n) * math.log(n + 1) - 2*math.log(2*n) + math.log(n))\n",
    "    Q_0 = -2*(1/p2)\n",
    "    Q = Q_0 * JS\n",
    "    C = Q*entropy\n",
    "\n",
    "    return C\n",
    "\n",
    "\n",
    "def fisher_information(dist):\n",
    "\n",
    "    n = len(dist)\n",
    "\n",
    "    if dist[0] == 1 or dist[n - 1] == 1:\n",
    "        F_0 = 1\n",
    "\n",
    "    else:\n",
    "        F_0 = 1/2\n",
    "\n",
    "\n",
    "    aux0 = [math.sqrt(dist[i]) for i in range(1, n)]\n",
    "    aux1 = [math.sqrt(dist[i]) for i in range(0, n - 1)]\n",
    "    aux = [(x - y)**2 for x,y in zip(aux0, aux1)]\n",
    "    F = F_0 * sum(aux)\n",
    "\n",
    "    return F"
   ]
  },
  {
   "cell_type": "code",
   "execution_count": 10,
   "id": "4e200a93",
   "metadata": {},
   "outputs": [
    {
     "name": "stdout",
     "output_type": "stream",
     "text": [
      "[3.2229421112195835, 0.18842712268145806]\n",
      "0.9571306692208654\n"
     ]
    }
   ],
   "source": [
    "import random\n",
    "from collections import Counter\n",
    "\n",
    "### para uma unica lista\n",
    "data = random.choices(list(range(1, 30)), k = 100)\n",
    "\n",
    "## se nao for usar OP, faça um histograma mais ou menos assim\n",
    "frequency = Counter(sorted(data)).values()\n",
    "histogram = [x/sum(frequency) for x in frequency]\n",
    "features  = [\"permutation_entropy\", \"statistical_complexity\"]\n",
    "\n",
    "result = it_features(histogram, features)\n",
    "print(result)\n",
    "\n",
    "#### OU vc pode chamar cada feature separadas\n",
    "pe = permutation_entropy(histogram, normalized = True)\n",
    "print(pe)"
   ]
  },
  {
   "cell_type": "code",
   "execution_count": 7,
   "id": "9e78773e",
   "metadata": {},
   "outputs": [],
   "source": [
    "import numpy as np\n",
    "\n",
    "### para um numpy array\n",
    "data = np.array([random.choices(list(range(1, 30)), k = 100) for x in range(3)])\n",
    "\n",
    "features  = [\"permutation_entropy\", \"statistical_complexity\"]\n",
    "\n",
    "results = []\n",
    "\n",
    "for d in data:\n",
    "    frequency = Counter(sorted(d)).values()\n",
    "    histogram = [x/sum(frequency) for x in frequency]\n",
    "    \n",
    "#     result = it_features(histogram, features)\n",
    "    result = [permutation_entropy(histogram, normalized = True), statistical_complexity(histogram)]\n",
    "    ## pra plotar no plano entropia-complexidade, se nao me engano, PE tem que ser normalizada, \n",
    "    # mas SC tem que pegar uma PE não normalizada\n",
    "    \n",
    "    results.append(result)    "
   ]
  },
  {
   "cell_type": "code",
   "execution_count": 8,
   "id": "d12f8c59",
   "metadata": {},
   "outputs": [
    {
     "data": {
      "text/plain": [
       "[Text(0.5, 0, 'Permutation Entropy'), Text(0, 0.5, 'Statistical Complexity')]"
      ]
     },
     "execution_count": 8,
     "metadata": {},
     "output_type": "execute_result"
    },
    {
     "data": {
      "image/png": "[encoded data removed]",
      "text/plain": [
       "<Figure size 432x288 with 1 Axes>"
      ]
     },
     "metadata": {
      "needs_background": "light"
     },
     "output_type": "display_data"
    }
   ],
   "source": [
    "import matplotlib.pyplot as plt\n",
    "\n",
    "xname = 'Permutation Entropy'\n",
    "yname = 'Statistical Complexity'\n",
    "\n",
    "df = pd.DataFrame(results, columns = [xname, yname])\n",
    "\n",
    "ax = df.plot(kind='scatter', x=xname, y=yname)\n",
    " \n",
    "ax.set(xlabel=xname, ylabel=yname)"
   ]
  },
  {
   "cell_type": "code",
   "execution_count": null,
   "id": "d18f7c67",
   "metadata": {},
   "outputs": [],
   "source": []
  }
 ],
 "metadata": {
  "kernelspec": {
   "display_name": "Python 3 (ipykernel)",
   "language": "python",
   "name": "python3"
  },
  "language_info": {
   "codemirror_mode": {
    "name": "ipython",
    "version": 3
   },
   "file_extension": ".py",
   "mimetype": "text/x-python",
   "name": "python",
   "nbconvert_exporter": "python",
   "pygments_lexer": "ipython3",
   "version": "3.9.12"
  }
 },
 "nbformat": 4,
 "nbformat_minor": 5
}
